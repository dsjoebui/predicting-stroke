{
 "cells": [
  {
   "cell_type": "markdown",
   "id": "owned-borough",
   "metadata": {
    "papermill": {
     "duration": 0.049359,
     "end_time": "2021-08-26T14:46:34.344692",
     "exception": false,
     "start_time": "2021-08-26T14:46:34.295333",
     "status": "completed"
    },
    "tags": []
   },
   "source": [
    "Within this notebook, there is a basic exploratory data analysis and a comparison of classification models in predicting stroke in patients.\n",
    "Feedback, criticism and comments are much appreciated."
   ]
  },
  {
   "cell_type": "markdown",
   "id": "shared-reader",
   "metadata": {
    "papermill": {
     "duration": 0.046849,
     "end_time": "2021-08-26T14:46:34.439223",
     "exception": false,
     "start_time": "2021-08-26T14:46:34.392374",
     "status": "completed"
    },
    "tags": []
   },
   "source": [
    "Attribute Info:\n",
    "1. id: unique identifier\n",
    "2. gender: \"Male\", \"Female\" or \"Other\"\n",
    "3. age: age of the patient\n",
    "4. hypertension: 0 if the patient doesn't have hypertension, 1 if the patient has hypertension\n",
    "5. heart_disease: 0 if the patient doesn't have any heart diseases, 1 if the patient has a heart disease\n",
    "6. ever_married: \"No\" or \"Yes\"\n",
    "7. work_type: \"children\", \"Govt_jov\", \"Never_worked\", \"Private\" or \"Self-employed\"\n",
    "8. Residence_type: \"Rural\" or \"Urban\"\n",
    "9. avg_glucose_level: average glucose level in blood\n",
    "10. bmi: body mass index\n",
    "11. smoking_status: \"formerly smoked\", \"never smoked\", \"smokes\" or \"Unknown\"*\n",
    "12. stroke: 1 if the patient had a stroke or 0 if not\n",
    "*Note: \"Unknown\" in smoking_status means that the information is unavailable for this patient"
   ]
  },
  {
   "cell_type": "code",
   "execution_count": 1,
   "id": "dimensional-administrator",
   "metadata": {
    "execution": {
     "iopub.execute_input": "2021-08-26T14:46:34.537187Z",
     "iopub.status.busy": "2021-08-26T14:46:34.536007Z",
     "iopub.status.idle": "2021-08-26T14:46:36.048487Z",
     "shell.execute_reply": "2021-08-26T14:46:36.047270Z",
     "shell.execute_reply.started": "2021-08-25T14:50:05.781892Z"
    },
    "papermill": {
     "duration": 1.562592,
     "end_time": "2021-08-26T14:46:36.048692",
     "exception": false,
     "start_time": "2021-08-26T14:46:34.486100",
     "status": "completed"
    },
    "tags": []
   },
   "outputs": [],
   "source": [
    "import numpy as np\n",
    "import pandas as pd\n",
    "import seaborn as sns\n",
    "import matplotlib.pyplot as plt\n",
    "\n",
    "# data prep\n",
    "from sklearn.model_selection import train_test_split\n",
    "from sklearn.impute import SimpleImputer\n",
    "from sklearn.pipeline import Pipeline\n",
    "from sklearn.preprocessing import StandardScaler\n",
    "from sklearn.compose import ColumnTransformer\n",
    "from sklearn.preprocessing import OneHotEncoder\n",
    "\n",
    "# under/over sampling\n",
    "from imblearn.pipeline import Pipeline\n",
    "from imblearn.under_sampling import RandomUnderSampler\n",
    "from imblearn.over_sampling import SMOTE\n",
    "\n",
    "# modelling\n",
    "from sklearn.linear_model import LogisticRegression\n",
    "from sklearn.neighbors import KNeighborsClassifier\n",
    "from sklearn.svm import SVC\n",
    "from sklearn.ensemble import RandomForestClassifier\n",
    "from sklearn.tree import DecisionTreeClassifier\n",
    "from sklearn.ensemble import GradientBoostingClassifier\n",
    "\n",
    "from sklearn.model_selection import RandomizedSearchCV\n",
    "\n",
    "# classification metrics\n",
    "from sklearn.metrics import roc_auc_score\n",
    "from sklearn.metrics import precision_score\n",
    "from sklearn.metrics import recall_score\n",
    "from sklearn.metrics import f1_score\n",
    "from sklearn.metrics import precision_recall_curve\n",
    "\n",
    "import warnings\n",
    "warnings.filterwarnings(\"ignore\")"
   ]
  },
  {
   "cell_type": "code",
   "execution_count": 4,
   "id": "yellow-window",
   "metadata": {
    "execution": {
     "iopub.execute_input": "2021-08-26T14:46:36.152412Z",
     "iopub.status.busy": "2021-08-26T14:46:36.151691Z",
     "iopub.status.idle": "2021-08-26T14:46:36.218058Z",
     "shell.execute_reply": "2021-08-26T14:46:36.218581Z",
     "shell.execute_reply.started": "2021-08-25T14:50:07.07826Z"
    },
    "papermill": {
     "duration": 0.121468,
     "end_time": "2021-08-26T14:46:36.218786",
     "exception": false,
     "start_time": "2021-08-26T14:46:36.097318",
     "status": "completed"
    },
    "tags": []
   },
   "outputs": [
    {
     "data": {
      "text/html": [
       "<div>\n",
       "<style scoped>\n",
       "    .dataframe tbody tr th:only-of-type {\n",
       "        vertical-align: middle;\n",
       "    }\n",
       "\n",
       "    .dataframe tbody tr th {\n",
       "        vertical-align: top;\n",
       "    }\n",
       "\n",
       "    .dataframe thead th {\n",
       "        text-align: right;\n",
       "    }\n",
       "</style>\n",
       "<table border=\"1\" class=\"dataframe\">\n",
       "  <thead>\n",
       "    <tr style=\"text-align: right;\">\n",
       "      <th></th>\n",
       "      <th>id</th>\n",
       "      <th>gender</th>\n",
       "      <th>age</th>\n",
       "      <th>hypertension</th>\n",
       "      <th>heart_disease</th>\n",
       "      <th>ever_married</th>\n",
       "      <th>work_type</th>\n",
       "      <th>Residence_type</th>\n",
       "      <th>avg_glucose_level</th>\n",
       "      <th>bmi</th>\n",
       "      <th>smoking_status</th>\n",
       "      <th>stroke</th>\n",
       "    </tr>\n",
       "  </thead>\n",
       "  <tbody>\n",
       "    <tr>\n",
       "      <th>0</th>\n",
       "      <td>9046</td>\n",
       "      <td>Male</td>\n",
       "      <td>67.0</td>\n",
       "      <td>0</td>\n",
       "      <td>1</td>\n",
       "      <td>Yes</td>\n",
       "      <td>Private</td>\n",
       "      <td>Urban</td>\n",
       "      <td>228.69</td>\n",
       "      <td>36.6</td>\n",
       "      <td>formerly smoked</td>\n",
       "      <td>1</td>\n",
       "    </tr>\n",
       "    <tr>\n",
       "      <th>1</th>\n",
       "      <td>51676</td>\n",
       "      <td>Female</td>\n",
       "      <td>61.0</td>\n",
       "      <td>0</td>\n",
       "      <td>0</td>\n",
       "      <td>Yes</td>\n",
       "      <td>Self-employed</td>\n",
       "      <td>Rural</td>\n",
       "      <td>202.21</td>\n",
       "      <td>NaN</td>\n",
       "      <td>never smoked</td>\n",
       "      <td>1</td>\n",
       "    </tr>\n",
       "    <tr>\n",
       "      <th>2</th>\n",
       "      <td>31112</td>\n",
       "      <td>Male</td>\n",
       "      <td>80.0</td>\n",
       "      <td>0</td>\n",
       "      <td>1</td>\n",
       "      <td>Yes</td>\n",
       "      <td>Private</td>\n",
       "      <td>Rural</td>\n",
       "      <td>105.92</td>\n",
       "      <td>32.5</td>\n",
       "      <td>never smoked</td>\n",
       "      <td>1</td>\n",
       "    </tr>\n",
       "    <tr>\n",
       "      <th>3</th>\n",
       "      <td>60182</td>\n",
       "      <td>Female</td>\n",
       "      <td>49.0</td>\n",
       "      <td>0</td>\n",
       "      <td>0</td>\n",
       "      <td>Yes</td>\n",
       "      <td>Private</td>\n",
       "      <td>Urban</td>\n",
       "      <td>171.23</td>\n",
       "      <td>34.4</td>\n",
       "      <td>smokes</td>\n",
       "      <td>1</td>\n",
       "    </tr>\n",
       "    <tr>\n",
       "      <th>4</th>\n",
       "      <td>1665</td>\n",
       "      <td>Female</td>\n",
       "      <td>79.0</td>\n",
       "      <td>1</td>\n",
       "      <td>0</td>\n",
       "      <td>Yes</td>\n",
       "      <td>Self-employed</td>\n",
       "      <td>Rural</td>\n",
       "      <td>174.12</td>\n",
       "      <td>24.0</td>\n",
       "      <td>never smoked</td>\n",
       "      <td>1</td>\n",
       "    </tr>\n",
       "  </tbody>\n",
       "</table>\n",
       "</div>"
      ],
      "text/plain": [
       "      id  gender   age  hypertension  heart_disease ever_married  \\\n",
       "0   9046    Male  67.0             0              1          Yes   \n",
       "1  51676  Female  61.0             0              0          Yes   \n",
       "2  31112    Male  80.0             0              1          Yes   \n",
       "3  60182  Female  49.0             0              0          Yes   \n",
       "4   1665  Female  79.0             1              0          Yes   \n",
       "\n",
       "       work_type Residence_type  avg_glucose_level   bmi   smoking_status  \\\n",
       "0        Private          Urban             228.69  36.6  formerly smoked   \n",
       "1  Self-employed          Rural             202.21   NaN     never smoked   \n",
       "2        Private          Rural             105.92  32.5     never smoked   \n",
       "3        Private          Urban             171.23  34.4           smokes   \n",
       "4  Self-employed          Rural             174.12  24.0     never smoked   \n",
       "\n",
       "   stroke  \n",
       "0       1  \n",
       "1       1  \n",
       "2       1  \n",
       "3       1  \n",
       "4       1  "
      ]
     },
     "execution_count": 4,
     "metadata": {},
     "output_type": "execute_result"
    }
   ],
   "source": [
    "df = pd.read_csv(\"healthcare-dataset-stroke-data.csv\")\n",
    "df.head()"
   ]
  },
  {
   "cell_type": "code",
   "execution_count": 5,
   "id": "interracial-commission",
   "metadata": {
    "execution": {
     "iopub.execute_input": "2021-08-26T14:46:36.321201Z",
     "iopub.status.busy": "2021-08-26T14:46:36.320451Z",
     "iopub.status.idle": "2021-08-26T14:46:36.340554Z",
     "shell.execute_reply": "2021-08-26T14:46:36.341073Z",
     "shell.execute_reply.started": "2021-08-25T14:50:07.145426Z"
    },
    "papermill": {
     "duration": 0.073727,
     "end_time": "2021-08-26T14:46:36.341281",
     "exception": false,
     "start_time": "2021-08-26T14:46:36.267554",
     "status": "completed"
    },
    "tags": []
   },
   "outputs": [
    {
     "data": {
      "text/plain": [
       "id                   5110\n",
       "gender                  3\n",
       "age                   104\n",
       "hypertension            2\n",
       "heart_disease           2\n",
       "ever_married            2\n",
       "work_type               5\n",
       "Residence_type          2\n",
       "avg_glucose_level    3979\n",
       "bmi                   418\n",
       "smoking_status          4\n",
       "stroke                  2\n",
       "dtype: int64"
      ]
     },
     "execution_count": 5,
     "metadata": {},
     "output_type": "execute_result"
    }
   ],
   "source": [
    "df.nunique()"
   ]
  },
  {
   "cell_type": "code",
   "execution_count": 6,
   "id": "entire-italy",
   "metadata": {
    "execution": {
     "iopub.execute_input": "2021-08-26T14:46:36.441840Z",
     "iopub.status.busy": "2021-08-26T14:46:36.441200Z",
     "iopub.status.idle": "2021-08-26T14:46:36.448671Z",
     "shell.execute_reply": "2021-08-26T14:46:36.449158Z",
     "shell.execute_reply.started": "2021-08-25T14:50:07.168688Z"
    },
    "papermill": {
     "duration": 0.059513,
     "end_time": "2021-08-26T14:46:36.449363",
     "exception": false,
     "start_time": "2021-08-26T14:46:36.389850",
     "status": "completed"
    },
    "tags": []
   },
   "outputs": [],
   "source": [
    "df.drop(['id'], inplace=True, axis=1)"
   ]
  },
  {
   "cell_type": "code",
   "execution_count": 7,
   "id": "hundred-elements",
   "metadata": {
    "execution": {
     "iopub.execute_input": "2021-08-26T14:46:36.549973Z",
     "iopub.status.busy": "2021-08-26T14:46:36.549291Z",
     "iopub.status.idle": "2021-08-26T14:46:36.560004Z",
     "shell.execute_reply": "2021-08-26T14:46:36.560543Z",
     "shell.execute_reply.started": "2021-08-25T14:50:07.177522Z"
    },
    "papermill": {
     "duration": 0.06291,
     "end_time": "2021-08-26T14:46:36.560748",
     "exception": false,
     "start_time": "2021-08-26T14:46:36.497838",
     "status": "completed"
    },
    "tags": []
   },
   "outputs": [
    {
     "data": {
      "text/plain": [
       "1544"
      ]
     },
     "execution_count": 7,
     "metadata": {},
     "output_type": "execute_result"
    }
   ],
   "source": [
    "df[df['smoking_status'] == 'Unknown'].smoking_status.count()"
   ]
  },
  {
   "cell_type": "markdown",
   "id": "naval-machine",
   "metadata": {
    "papermill": {
     "duration": 0.048343,
     "end_time": "2021-08-26T14:46:36.657793",
     "exception": false,
     "start_time": "2021-08-26T14:46:36.609450",
     "status": "completed"
    },
    "tags": []
   },
   "source": [
    "Since 'Unknown' smoking status is a large portion of the data, we will not drop it."
   ]
  },
  {
   "cell_type": "code",
   "execution_count": 8,
   "id": "played-database",
   "metadata": {
    "execution": {
     "iopub.execute_input": "2021-08-26T14:46:36.765032Z",
     "iopub.status.busy": "2021-08-26T14:46:36.761163Z",
     "iopub.status.idle": "2021-08-26T14:46:36.798040Z",
     "shell.execute_reply": "2021-08-26T14:46:36.797447Z",
     "shell.execute_reply.started": "2021-08-25T14:50:07.191727Z"
    },
    "papermill": {
     "duration": 0.091214,
     "end_time": "2021-08-26T14:46:36.798197",
     "exception": false,
     "start_time": "2021-08-26T14:46:36.706983",
     "status": "completed"
    },
    "tags": []
   },
   "outputs": [
    {
     "data": {
      "text/html": [
       "<div>\n",
       "<style scoped>\n",
       "    .dataframe tbody tr th:only-of-type {\n",
       "        vertical-align: middle;\n",
       "    }\n",
       "\n",
       "    .dataframe tbody tr th {\n",
       "        vertical-align: top;\n",
       "    }\n",
       "\n",
       "    .dataframe thead th {\n",
       "        text-align: right;\n",
       "    }\n",
       "</style>\n",
       "<table border=\"1\" class=\"dataframe\">\n",
       "  <thead>\n",
       "    <tr style=\"text-align: right;\">\n",
       "      <th></th>\n",
       "      <th>age</th>\n",
       "      <th>hypertension</th>\n",
       "      <th>heart_disease</th>\n",
       "      <th>avg_glucose_level</th>\n",
       "      <th>bmi</th>\n",
       "      <th>stroke</th>\n",
       "    </tr>\n",
       "  </thead>\n",
       "  <tbody>\n",
       "    <tr>\n",
       "      <th>count</th>\n",
       "      <td>5110.000000</td>\n",
       "      <td>5110.000000</td>\n",
       "      <td>5110.000000</td>\n",
       "      <td>5110.000000</td>\n",
       "      <td>4909.000000</td>\n",
       "      <td>5110.000000</td>\n",
       "    </tr>\n",
       "    <tr>\n",
       "      <th>mean</th>\n",
       "      <td>43.226614</td>\n",
       "      <td>0.097456</td>\n",
       "      <td>0.054012</td>\n",
       "      <td>106.147677</td>\n",
       "      <td>28.893237</td>\n",
       "      <td>0.048728</td>\n",
       "    </tr>\n",
       "    <tr>\n",
       "      <th>std</th>\n",
       "      <td>22.612647</td>\n",
       "      <td>0.296607</td>\n",
       "      <td>0.226063</td>\n",
       "      <td>45.283560</td>\n",
       "      <td>7.854067</td>\n",
       "      <td>0.215320</td>\n",
       "    </tr>\n",
       "    <tr>\n",
       "      <th>min</th>\n",
       "      <td>0.080000</td>\n",
       "      <td>0.000000</td>\n",
       "      <td>0.000000</td>\n",
       "      <td>55.120000</td>\n",
       "      <td>10.300000</td>\n",
       "      <td>0.000000</td>\n",
       "    </tr>\n",
       "    <tr>\n",
       "      <th>25%</th>\n",
       "      <td>25.000000</td>\n",
       "      <td>0.000000</td>\n",
       "      <td>0.000000</td>\n",
       "      <td>77.245000</td>\n",
       "      <td>23.500000</td>\n",
       "      <td>0.000000</td>\n",
       "    </tr>\n",
       "    <tr>\n",
       "      <th>50%</th>\n",
       "      <td>45.000000</td>\n",
       "      <td>0.000000</td>\n",
       "      <td>0.000000</td>\n",
       "      <td>91.885000</td>\n",
       "      <td>28.100000</td>\n",
       "      <td>0.000000</td>\n",
       "    </tr>\n",
       "    <tr>\n",
       "      <th>75%</th>\n",
       "      <td>61.000000</td>\n",
       "      <td>0.000000</td>\n",
       "      <td>0.000000</td>\n",
       "      <td>114.090000</td>\n",
       "      <td>33.100000</td>\n",
       "      <td>0.000000</td>\n",
       "    </tr>\n",
       "    <tr>\n",
       "      <th>max</th>\n",
       "      <td>82.000000</td>\n",
       "      <td>1.000000</td>\n",
       "      <td>1.000000</td>\n",
       "      <td>271.740000</td>\n",
       "      <td>97.600000</td>\n",
       "      <td>1.000000</td>\n",
       "    </tr>\n",
       "  </tbody>\n",
       "</table>\n",
       "</div>"
      ],
      "text/plain": [
       "               age  hypertension  heart_disease  avg_glucose_level  \\\n",
       "count  5110.000000   5110.000000    5110.000000        5110.000000   \n",
       "mean     43.226614      0.097456       0.054012         106.147677   \n",
       "std      22.612647      0.296607       0.226063          45.283560   \n",
       "min       0.080000      0.000000       0.000000          55.120000   \n",
       "25%      25.000000      0.000000       0.000000          77.245000   \n",
       "50%      45.000000      0.000000       0.000000          91.885000   \n",
       "75%      61.000000      0.000000       0.000000         114.090000   \n",
       "max      82.000000      1.000000       1.000000         271.740000   \n",
       "\n",
       "               bmi       stroke  \n",
       "count  4909.000000  5110.000000  \n",
       "mean     28.893237     0.048728  \n",
       "std       7.854067     0.215320  \n",
       "min      10.300000     0.000000  \n",
       "25%      23.500000     0.000000  \n",
       "50%      28.100000     0.000000  \n",
       "75%      33.100000     0.000000  \n",
       "max      97.600000     1.000000  "
      ]
     },
     "execution_count": 8,
     "metadata": {},
     "output_type": "execute_result"
    }
   ],
   "source": [
    "df.describe()"
   ]
  },
  {
   "cell_type": "markdown",
   "id": "trying-bobby",
   "metadata": {
    "papermill": {
     "duration": 0.04887,
     "end_time": "2021-08-26T14:46:36.896648",
     "exception": false,
     "start_time": "2021-08-26T14:46:36.847778",
     "status": "completed"
    },
    "tags": []
   },
   "source": [
    "The minimum age is 0.08. Lets investigate this"
   ]
  },
  {
   "cell_type": "code",
   "execution_count": 9,
   "id": "loose-grammar",
   "metadata": {
    "execution": {
     "iopub.execute_input": "2021-08-26T14:46:37.002024Z",
     "iopub.status.busy": "2021-08-26T14:46:37.001248Z",
     "iopub.status.idle": "2021-08-26T14:46:37.035762Z",
     "shell.execute_reply": "2021-08-26T14:46:37.034915Z",
     "shell.execute_reply.started": "2021-08-25T14:50:07.233822Z"
    },
    "papermill": {
     "duration": 0.089992,
     "end_time": "2021-08-26T14:46:37.035981",
     "exception": false,
     "start_time": "2021-08-26T14:46:36.945989",
     "status": "completed"
    },
    "tags": []
   },
   "outputs": [
    {
     "data": {
      "text/html": [
       "<div>\n",
       "<style scoped>\n",
       "    .dataframe tbody tr th:only-of-type {\n",
       "        vertical-align: middle;\n",
       "    }\n",
       "\n",
       "    .dataframe tbody tr th {\n",
       "        vertical-align: top;\n",
       "    }\n",
       "\n",
       "    .dataframe thead th {\n",
       "        text-align: right;\n",
       "    }\n",
       "</style>\n",
       "<table border=\"1\" class=\"dataframe\">\n",
       "  <thead>\n",
       "    <tr style=\"text-align: right;\">\n",
       "      <th></th>\n",
       "      <th>gender</th>\n",
       "      <th>age</th>\n",
       "      <th>hypertension</th>\n",
       "      <th>heart_disease</th>\n",
       "      <th>ever_married</th>\n",
       "      <th>work_type</th>\n",
       "      <th>Residence_type</th>\n",
       "      <th>avg_glucose_level</th>\n",
       "      <th>bmi</th>\n",
       "      <th>smoking_status</th>\n",
       "      <th>stroke</th>\n",
       "    </tr>\n",
       "  </thead>\n",
       "  <tbody>\n",
       "    <tr>\n",
       "      <th>363</th>\n",
       "      <td>Female</td>\n",
       "      <td>0.64</td>\n",
       "      <td>0</td>\n",
       "      <td>0</td>\n",
       "      <td>No</td>\n",
       "      <td>children</td>\n",
       "      <td>Urban</td>\n",
       "      <td>83.82</td>\n",
       "      <td>24.9</td>\n",
       "      <td>Unknown</td>\n",
       "      <td>0</td>\n",
       "    </tr>\n",
       "    <tr>\n",
       "      <th>376</th>\n",
       "      <td>Female</td>\n",
       "      <td>0.88</td>\n",
       "      <td>0</td>\n",
       "      <td>0</td>\n",
       "      <td>No</td>\n",
       "      <td>children</td>\n",
       "      <td>Rural</td>\n",
       "      <td>88.11</td>\n",
       "      <td>15.5</td>\n",
       "      <td>Unknown</td>\n",
       "      <td>0</td>\n",
       "    </tr>\n",
       "    <tr>\n",
       "      <th>564</th>\n",
       "      <td>Female</td>\n",
       "      <td>0.32</td>\n",
       "      <td>0</td>\n",
       "      <td>0</td>\n",
       "      <td>No</td>\n",
       "      <td>children</td>\n",
       "      <td>Rural</td>\n",
       "      <td>73.71</td>\n",
       "      <td>16.2</td>\n",
       "      <td>Unknown</td>\n",
       "      <td>0</td>\n",
       "    </tr>\n",
       "    <tr>\n",
       "      <th>982</th>\n",
       "      <td>Male</td>\n",
       "      <td>0.88</td>\n",
       "      <td>0</td>\n",
       "      <td>0</td>\n",
       "      <td>No</td>\n",
       "      <td>children</td>\n",
       "      <td>Rural</td>\n",
       "      <td>157.57</td>\n",
       "      <td>19.2</td>\n",
       "      <td>Unknown</td>\n",
       "      <td>0</td>\n",
       "    </tr>\n",
       "    <tr>\n",
       "      <th>996</th>\n",
       "      <td>Male</td>\n",
       "      <td>0.24</td>\n",
       "      <td>0</td>\n",
       "      <td>0</td>\n",
       "      <td>No</td>\n",
       "      <td>children</td>\n",
       "      <td>Rural</td>\n",
       "      <td>118.87</td>\n",
       "      <td>16.3</td>\n",
       "      <td>Unknown</td>\n",
       "      <td>0</td>\n",
       "    </tr>\n",
       "  </tbody>\n",
       "</table>\n",
       "</div>"
      ],
      "text/plain": [
       "     gender   age  hypertension  heart_disease ever_married work_type  \\\n",
       "363  Female  0.64             0              0           No  children   \n",
       "376  Female  0.88             0              0           No  children   \n",
       "564  Female  0.32             0              0           No  children   \n",
       "982    Male  0.88             0              0           No  children   \n",
       "996    Male  0.24             0              0           No  children   \n",
       "\n",
       "    Residence_type  avg_glucose_level   bmi smoking_status  stroke  \n",
       "363          Urban              83.82  24.9        Unknown       0  \n",
       "376          Rural              88.11  15.5        Unknown       0  \n",
       "564          Rural              73.71  16.2        Unknown       0  \n",
       "982          Rural             157.57  19.2        Unknown       0  \n",
       "996          Rural             118.87  16.3        Unknown       0  "
      ]
     },
     "execution_count": 9,
     "metadata": {},
     "output_type": "execute_result"
    }
   ],
   "source": [
    "df[df['age'] < 1].head(5)"
   ]
  },
  {
   "cell_type": "markdown",
   "id": "discrete-hospital",
   "metadata": {
    "papermill": {
     "duration": 0.051339,
     "end_time": "2021-08-26T14:46:37.138009",
     "exception": false,
     "start_time": "2021-08-26T14:46:37.086670",
     "status": "completed"
    },
    "tags": []
   },
   "source": [
    "Are these patients truly younger than 1 year when this data was recorded? I don't know too much about how the data was collected and if these are misinputs, but these values could be true because their work type is 'children'"
   ]
  },
  {
   "cell_type": "markdown",
   "id": "surrounded-waterproof",
   "metadata": {
    "papermill": {
     "duration": 0.050356,
     "end_time": "2021-08-26T14:46:37.238533",
     "exception": false,
     "start_time": "2021-08-26T14:46:37.188177",
     "status": "completed"
    },
    "tags": []
   },
   "source": [
    "# Exploratory Data Analysis"
   ]
  },
  {
   "cell_type": "markdown",
   "id": "freelance-russia",
   "metadata": {
    "papermill": {
     "duration": 0.049495,
     "end_time": "2021-08-26T14:46:37.338983",
     "exception": false,
     "start_time": "2021-08-26T14:46:37.289488",
     "status": "completed"
    },
    "tags": []
   },
   "source": [
    "# Target Variable"
   ]
  },
  {
   "cell_type": "code",
   "execution_count": 22,
   "id": "7e80c542",
   "metadata": {},
   "outputs": [],
   "source": [
    "tempstroke = df['stroke'].copy()\n",
    "tempstroke.replace(1, 'Stroke', inplace=True)\n",
    "tempstroke.replace(0, 'No Stroke', inplace=True)"
   ]
  },
  {
   "cell_type": "code",
   "execution_count": 23,
   "id": "266cced1",
   "metadata": {},
   "outputs": [
    {
     "data": {
      "text/plain": [
       "0          Stroke\n",
       "1          Stroke\n",
       "2          Stroke\n",
       "3          Stroke\n",
       "4          Stroke\n",
       "          ...    \n",
       "5105    No Stroke\n",
       "5106    No Stroke\n",
       "5107    No Stroke\n",
       "5108    No Stroke\n",
       "5109    No Stroke\n",
       "Name: stroke, Length: 5110, dtype: object"
      ]
     },
     "execution_count": 23,
     "metadata": {},
     "output_type": "execute_result"
    }
   ],
   "source": [
    "tempstroke"
   ]
  },
  {
   "cell_type": "code",
   "execution_count": 80,
   "id": "operating-sessions",
   "metadata": {
    "_kg_hide-input": true,
    "execution": {
     "iopub.execute_input": "2021-08-26T14:46:37.442459Z",
     "iopub.status.busy": "2021-08-26T14:46:37.441796Z",
     "iopub.status.idle": "2021-08-26T14:46:37.728222Z",
     "shell.execute_reply": "2021-08-26T14:46:37.727664Z",
     "shell.execute_reply.started": "2021-08-25T14:50:07.267828Z"
    },
    "papermill": {
     "duration": 0.33946,
     "end_time": "2021-08-26T14:46:37.728417",
     "exception": false,
     "start_time": "2021-08-26T14:46:37.388957",
     "status": "completed"
    },
    "tags": []
   },
   "outputs": [
    {
     "data": {
      "image/png": "[encoded data removed]",
      "text/plain": [
       "<Figure size 864x576 with 2 Axes>"
      ]
     },
     "metadata": {
      "needs_background": "light"
     },
     "output_type": "display_data"
    }
   ],
   "source": [
    "fig, ax = plt.subplots(1, 2, figsize=(12,8))\n",
    "\n",
    "pie = df['stroke'].value_counts().plot.pie(explode=[0,0.1], \n",
    "                                           autopct='%1.1f%%', \n",
    "                                           labels=['No Stroke', 'Stroke'], \n",
    "                                           colors=[\"#a9a9a9\", '#ff6865'], \n",
    "                                           textprops={'color':\"black\", 'fontsize': 18}, \n",
    "                                           ax=ax[0])\n",
    "sns.countplot(x=tempstroke, palette=['#ff6865',\"#a9a9a9\"], ax=ax[1])\n",
    "\n",
    "ax[0].set_ylabel('')\n",
    "ax[1].invert_xaxis()\n",
    "ax[1].set_xlabel('')\n",
    "ax[1].tick_params(axis='x', labelsize=18)\n",
    "ax[1].tick_params(axis='y', labelsize=12)\n",
    "\n",
    "fig.suptitle('Distribution of Patients with Stroke', fontsize=22)\n",
    "\n",
    "plt.ylabel('Count', fontsize=18)\n",
    "plt.tight_layout()\n",
    "plt.show()"
   ]
  },
  {
   "cell_type": "markdown",
   "id": "nominated-crossing",
   "metadata": {
    "papermill": {
     "duration": 0.053761,
     "end_time": "2021-08-26T14:46:37.833265",
     "exception": false,
     "start_time": "2021-08-26T14:46:37.779504",
     "status": "completed"
    },
    "tags": []
   },
   "source": [
    "This is an **imbalanced data set**. About 5:95 or 1:19 ratio"
   ]
  },
  {
   "cell_type": "markdown",
   "id": "classical-canon",
   "metadata": {
    "papermill": {
     "duration": 0.051408,
     "end_time": "2021-08-26T14:46:37.952998",
     "exception": false,
     "start_time": "2021-08-26T14:46:37.901590",
     "status": "completed"
    },
    "tags": []
   },
   "source": [
    "# Correlation"
   ]
  },
  {
   "cell_type": "code",
   "execution_count": 89,
   "id": "controversial-attendance",
   "metadata": {
    "_kg_hide-input": true,
    "execution": {
     "iopub.execute_input": "2021-08-26T14:46:38.074158Z",
     "iopub.status.busy": "2021-08-26T14:46:38.073396Z",
     "iopub.status.idle": "2021-08-26T14:46:38.618422Z",
     "shell.execute_reply": "2021-08-26T14:46:38.618952Z",
     "shell.execute_reply.started": "2021-08-25T14:50:07.538898Z"
    },
    "papermill": {
     "duration": 0.602805,
     "end_time": "2021-08-26T14:46:38.619227",
     "exception": false,
     "start_time": "2021-08-26T14:46:38.016422",
     "status": "completed"
    },
    "tags": []
   },
   "outputs": [
    {
     "data": {
      "image/png": "[encoded data removed]",
      "text/plain": [
       "<Figure size 720x576 with 2 Axes>"
      ]
     },
     "metadata": {
      "needs_background": "light"
     },
     "output_type": "display_data"
    }
   ],
   "source": [
    "# convert discrete variables with string values to numeric as label encoding\n",
    "dfcorr = df.copy()\n",
    "dfcorr[['gender', 'ever_married', 'work_type', 'Residence_type', 'smoking_status']] = dfcorr[['gender', 'ever_married', 'work_type', 'Residence_type', 'smoking_status']].astype('category')\n",
    "dfcorr['gender'] = dfcorr['gender'].cat.codes\n",
    "dfcorr['ever_married'] = dfcorr['ever_married'].cat.codes\n",
    "dfcorr['work_type'] = dfcorr['work_type'].cat.codes\n",
    "dfcorr['Residence_type'] = dfcorr['Residence_type'].cat.codes\n",
    "dfcorr['smoking_status'] = dfcorr['smoking_status'].cat.codes\n",
    "\n",
    "corr = dfcorr.corr()\n",
    "mask = np.triu(np.ones_like(corr, dtype=bool))\n",
    "\n",
    "fig, ax = plt.subplots(figsize=(10,8))\n",
    "\n",
    "cmap= sns.diverging_palette(230, 20, as_cmap=True)\n",
    "\n",
    "sns.heatmap(corr, mask=mask, cmap=cmap, vmax=.3, center=0, square=True, linewidths=.5, cbar_kws={\"shrink\":.5})\n",
    "\n",
    "plt.title('Heatmap of all variables')\n",
    "\n",
    "plt.show()"
   ]
  },
  {
   "cell_type": "markdown",
   "id": "bridal-cartoon",
   "metadata": {
    "papermill": {
     "duration": 0.051215,
     "end_time": "2021-08-26T14:46:38.723686",
     "exception": false,
     "start_time": "2021-08-26T14:46:38.672471",
     "status": "completed"
    },
    "tags": []
   },
   "source": [
    "The lifestyle variables, residence_type, work_type and smoking_status don't correlate well with stroke. However, smoking_status has a lot of unknown values. Smoking_status will be investigated further in the notebook."
   ]
  },
  {
   "cell_type": "code",
   "execution_count": 90,
   "id": "behind-angel",
   "metadata": {
    "_kg_hide-input": true,
    "execution": {
     "iopub.execute_input": "2021-08-26T14:46:38.834217Z",
     "iopub.status.busy": "2021-08-26T14:46:38.833252Z",
     "iopub.status.idle": "2021-08-26T14:46:39.150013Z",
     "shell.execute_reply": "2021-08-26T14:46:39.149458Z",
     "shell.execute_reply.started": "2021-08-25T14:50:08.068199Z"
    },
    "papermill": {
     "duration": 0.375292,
     "end_time": "2021-08-26T14:46:39.150164",
     "exception": false,
     "start_time": "2021-08-26T14:46:38.774872",
     "status": "completed"
    },
    "tags": []
   },
   "outputs": [
    {
     "data": {
      "image/png": "[encoded data removed]",
      "text/plain": [
       "<Figure size 720x576 with 2 Axes>"
      ]
     },
     "metadata": {
      "needs_background": "light"
     },
     "output_type": "display_data"
    }
   ],
   "source": [
    "corr2 = df.corr()\n",
    "mask = np.triu(np.ones_like(corr2, dtype=bool))\n",
    "\n",
    "fig, ax = plt.subplots(figsize=(10,8))\n",
    "\n",
    "cmap= sns.diverging_palette(230, 20, as_cmap=True)\n",
    "\n",
    "sns.heatmap(corr2, mask=mask, cmap=cmap, vmax=.3, center=0, square=True, linewidths=.5, cbar_kws={\"shrink\":.5})\n",
    "\n",
    "plt.title('Heatmap with only health-related variables')\n",
    "\n",
    "plt.show()"
   ]
  },
  {
   "cell_type": "markdown",
   "id": "worldwide-couple",
   "metadata": {
    "papermill": {
     "duration": 0.052181,
     "end_time": "2021-08-26T14:46:39.256163",
     "exception": false,
     "start_time": "2021-08-26T14:46:39.203982",
     "status": "completed"
    },
    "tags": []
   },
   "source": [
    "seems like age is correlated with everything"
   ]
  },
  {
   "cell_type": "markdown",
   "id": "handy-platinum",
   "metadata": {
    "papermill": {
     "duration": 0.05217,
     "end_time": "2021-08-26T14:46:39.360664",
     "exception": false,
     "start_time": "2021-08-26T14:46:39.308494",
     "status": "completed"
    },
    "tags": []
   },
   "source": [
    "# Gender"
   ]
  },
  {
   "cell_type": "code",
   "execution_count": 91,
   "id": "sought-manual",
   "metadata": {
    "execution": {
     "iopub.execute_input": "2021-08-26T14:46:39.473880Z",
     "iopub.status.busy": "2021-08-26T14:46:39.472923Z",
     "iopub.status.idle": "2021-08-26T14:46:39.480728Z",
     "shell.execute_reply": "2021-08-26T14:46:39.481319Z",
     "shell.execute_reply.started": "2021-08-25T14:50:08.387781Z"
    },
    "papermill": {
     "duration": 0.068128,
     "end_time": "2021-08-26T14:46:39.481484",
     "exception": false,
     "start_time": "2021-08-26T14:46:39.413356",
     "status": "completed"
    },
    "tags": []
   },
   "outputs": [
    {
     "data": {
      "text/html": [
       "<div>\n",
       "<style scoped>\n",
       "    .dataframe tbody tr th:only-of-type {\n",
       "        vertical-align: middle;\n",
       "    }\n",
       "\n",
       "    .dataframe tbody tr th {\n",
       "        vertical-align: top;\n",
       "    }\n",
       "\n",
       "    .dataframe thead th {\n",
       "        text-align: right;\n",
       "    }\n",
       "</style>\n",
       "<table border=\"1\" class=\"dataframe\">\n",
       "  <thead>\n",
       "    <tr style=\"text-align: right;\">\n",
       "      <th></th>\n",
       "      <th>stroke</th>\n",
       "    </tr>\n",
       "    <tr>\n",
       "      <th>gender</th>\n",
       "      <th></th>\n",
       "    </tr>\n",
       "  </thead>\n",
       "  <tbody>\n",
       "    <tr>\n",
       "      <th>Female</th>\n",
       "      <td>2994</td>\n",
       "    </tr>\n",
       "    <tr>\n",
       "      <th>Male</th>\n",
       "      <td>2115</td>\n",
       "    </tr>\n",
       "    <tr>\n",
       "      <th>Other</th>\n",
       "      <td>1</td>\n",
       "    </tr>\n",
       "  </tbody>\n",
       "</table>\n",
       "</div>"
      ],
      "text/plain": [
       "        stroke\n",
       "gender        \n",
       "Female    2994\n",
       "Male      2115\n",
       "Other        1"
      ]
     },
     "execution_count": 91,
     "metadata": {},
     "output_type": "execute_result"
    }
   ],
   "source": [
    "df[['gender','stroke']].groupby(['gender']).count()"
   ]
  },
  {
   "cell_type": "markdown",
   "id": "underlying-essex",
   "metadata": {
    "papermill": {
     "duration": 0.052201,
     "end_time": "2021-08-26T14:46:39.586546",
     "exception": false,
     "start_time": "2021-08-26T14:46:39.534345",
     "status": "completed"
    },
    "tags": []
   },
   "source": [
    "lets remove 'Other' since there is only 1 entry"
   ]
  },
  {
   "cell_type": "code",
   "execution_count": 92,
   "id": "international-cowboy",
   "metadata": {
    "execution": {
     "iopub.execute_input": "2021-08-26T14:46:39.699054Z",
     "iopub.status.busy": "2021-08-26T14:46:39.698204Z",
     "iopub.status.idle": "2021-08-26T14:46:39.702832Z",
     "shell.execute_reply": "2021-08-26T14:46:39.702209Z",
     "shell.execute_reply.started": "2021-08-25T14:50:08.403249Z"
    },
    "papermill": {
     "duration": 0.063839,
     "end_time": "2021-08-26T14:46:39.702988",
     "exception": false,
     "start_time": "2021-08-26T14:46:39.639149",
     "status": "completed"
    },
    "tags": []
   },
   "outputs": [],
   "source": [
    "df = df[df['gender'] != 'Other']"
   ]
  },
  {
   "cell_type": "code",
   "execution_count": 95,
   "id": "placed-plate",
   "metadata": {
    "_kg_hide-input": true,
    "execution": {
     "iopub.execute_input": "2021-08-26T14:46:39.823608Z",
     "iopub.status.busy": "2021-08-26T14:46:39.822913Z",
     "iopub.status.idle": "2021-08-26T14:46:40.399946Z",
     "shell.execute_reply": "2021-08-26T14:46:40.399303Z",
     "shell.execute_reply.started": "2021-08-25T14:50:08.414488Z"
    },
    "papermill": {
     "duration": 0.64344,
     "end_time": "2021-08-26T14:46:40.400094",
     "exception": false,
     "start_time": "2021-08-26T14:46:39.756654",
     "status": "completed"
    },
    "tags": []
   },
   "outputs": [
    {
     "data": {
      "image/png": "[encoded data removed]",
      "text/plain": [
       "<Figure size 1008x720 with 4 Axes>"
      ]
     },
     "metadata": {
      "needs_background": "light"
     },
     "output_type": "display_data"
    }
   ],
   "source": [
    "# male\n",
    "dfmale = df[df['gender'] == 'Male']\n",
    "dfmale = dfmale['stroke'].value_counts(normalize=True)\n",
    "dfmale = dfmale.mul(100)\n",
    "dfmale = dfmale.rename('percent').reset_index()\n",
    "\n",
    "# female\n",
    "dffemale = df[df['gender'] == 'Female']\n",
    "dffemale = dffemale['stroke'].value_counts(normalize=True)\n",
    "dffemale = dffemale.mul(100)\n",
    "dffemale = dffemale.rename('percent').reset_index()\n",
    "\n",
    "\n",
    "\n",
    "fig, ax = plt.subplots(2, 2, figsize=(14,10))\n",
    "\n",
    "df[['gender','stroke']].groupby(['gender']).count().plot.bar(ax=ax[0,0])\n",
    "sns.countplot(x='gender', hue='stroke', data=df, ax=ax[0,1], palette=[\"#a9a9a9\", '#ff6865'])\n",
    "sns.barplot(x='index', y='percent', data=dfmale, ax=ax[1,0], palette=[\"#a9a9a9\", '#ff6865'])\n",
    "sns.barplot(x='index', y='percent', data=dffemale, ax=ax[1,1], palette=[\"#a9a9a9\", '#ff6865'])\n",
    "\n",
    "ax[0,0].set_title('Gender Count')\n",
    "ax[0,1].set_title('Gender and Stroke')\n",
    "ax[1,0].set_title('Male + Stroke')\n",
    "ax[1,1].set_title('Female + Stroke')\n",
    "\n",
    "ax[1,0].set_xlabel('Stroke')\n",
    "ax[1,1].set_xlabel('Stroke')\n",
    "\n",
    "ax[0,0].set_xticklabels(ax[0,0].get_xticklabels(), rotation=0) # labels were vertical\n",
    "ax[0,0].invert_xaxis() # male and female labels in wrong order\n",
    "ax[0,0].get_legend().remove()\n",
    "\n",
    "ax[1,0].text(0, 50, \"95.58%\", va='center', ha='center', fontsize=20)\n",
    "ax[1,0].text(1, 4.7, \"4.43%\", ha='center', fontsize=20)\n",
    "\n",
    "ax[1,1].text(0, 50, \"95.86%\", va='center', ha='center', fontsize=20)\n",
    "ax[1,1].text(1, 4.3, \"4.15%\", ha='center', fontsize=20)\n",
    "\n",
    "fig.tight_layout()\n",
    "plt.show()"
   ]
  },
  {
   "cell_type": "markdown",
   "id": "absolute-cassette",
   "metadata": {
    "papermill": {
     "duration": 0.053688,
     "end_time": "2021-08-26T14:46:40.507567",
     "exception": false,
     "start_time": "2021-08-26T14:46:40.453879",
     "status": "completed"
    },
    "tags": []
   },
   "source": [
    "Even though there are more females than males recorded in the data, the relative % of males and females having experienced a stroke is roughly equal."
   ]
  },
  {
   "cell_type": "markdown",
   "id": "metric-transcript",
   "metadata": {
    "papermill": {
     "duration": 0.053405,
     "end_time": "2021-08-26T14:46:40.614731",
     "exception": false,
     "start_time": "2021-08-26T14:46:40.561326",
     "status": "completed"
    },
    "tags": []
   },
   "source": [
    "# Age"
   ]
  },
  {
   "cell_type": "code",
   "execution_count": 101,
   "id": "dated-average",
   "metadata": {
    "_kg_hide-input": true,
    "execution": {
     "iopub.execute_input": "2021-08-26T14:46:40.737488Z",
     "iopub.status.busy": "2021-08-26T14:46:40.736480Z",
     "iopub.status.idle": "2021-08-26T14:46:41.929068Z",
     "shell.execute_reply": "2021-08-26T14:46:41.929575Z",
     "shell.execute_reply.started": "2021-08-25T14:50:09.011645Z"
    },
    "papermill": {
     "duration": 1.260915,
     "end_time": "2021-08-26T14:46:41.929745",
     "exception": false,
     "start_time": "2021-08-26T14:46:40.668830",
     "status": "completed"
    },
    "tags": []
   },
   "outputs": [
    {
     "data": {
      "image/png": "[encoded data removed]",
      "text/plain": [
       "<Figure size 1440x720 with 5 Axes>"
      ]
     },
     "metadata": {
      "needs_background": "light"
     },
     "output_type": "display_data"
    }
   ],
   "source": [
    "fig = plt.figure(figsize=(20,10))\n",
    "\n",
    "ax = [None for _ in range(5)] # List to save ax for setting parameter\n",
    "\n",
    "ax[0] = plt.subplot2grid((3,4), (0,0), colspan = 2)\n",
    "ax[1] = plt.subplot2grid((3,4), (1,0), colspan = 1)\n",
    "ax[2] = plt.subplot2grid((3,4), (1,1), colspan = 1)\n",
    "ax[3] = plt.subplot2grid((3,4), (2,0), colspan = 1)\n",
    "ax[4] = plt.subplot2grid((3,4), (2,1), colspan = 1)\n",
    "\n",
    "sns.histplot(x='age', hue='stroke', multiple='stack', binwidth=5, data=df, ax=ax[0], palette=[\"#a9a9a9\", '#ff6865'])\n",
    "sns.histplot(x='age', binwidth=5, color= '#a9a9a9', data=df[df['stroke'] == 0], ax=ax[1])\n",
    "sns.histplot(x='age', color= '#ff6865', binwidth=5, data=df[df['stroke'] == 1], ax=ax[2])\n",
    "sns.histplot(x='age', hue='stroke', multiple='stack', binwidth=5, data=df[df['gender'] == 'Male'], palette=[\"#a9a9a9\", '#ff6865'], ax=ax[3])\n",
    "sns.histplot(x='age', hue='stroke', multiple='stack', binwidth=5, data=df[df['gender'] == 'Female'], palette=[\"#a9a9a9\", '#ff6865'], ax=ax[4])\n",
    "\n",
    "ax[0].set_title('Age and Stroke/No Stroke')\n",
    "ax[1].set_title('Age and No Stroke')\n",
    "ax[2].set_title('Age and Stroke')\n",
    "ax[3].set_title('Age, Male, Stroke')\n",
    "ax[4].set_title('Age, Female, Stroke')\n",
    "\n",
    "fig.tight_layout()\n",
    "plt.show()"
   ]
  },
  {
   "cell_type": "markdown",
   "id": "received-industry",
   "metadata": {
    "papermill": {
     "duration": 0.055242,
     "end_time": "2021-08-26T14:46:42.040354",
     "exception": false,
     "start_time": "2021-08-26T14:46:41.985112",
     "status": "completed"
    },
    "tags": []
   },
   "source": [
    "This data suggests that the older the patient is, the more likely that they will have a stroke. There are a few cases where a patient had a stroke before the age of 20."
   ]
  },
  {
   "cell_type": "code",
   "execution_count": 102,
   "id": "japanese-plymouth",
   "metadata": {
    "execution": {
     "iopub.execute_input": "2021-08-26T14:46:42.175335Z",
     "iopub.status.busy": "2021-08-26T14:46:42.174345Z",
     "iopub.status.idle": "2021-08-26T14:46:42.179303Z",
     "shell.execute_reply": "2021-08-26T14:46:42.178727Z",
     "shell.execute_reply.started": "2021-08-25T14:50:10.245414Z"
    },
    "papermill": {
     "duration": 0.080031,
     "end_time": "2021-08-26T14:46:42.179471",
     "exception": false,
     "start_time": "2021-08-26T14:46:42.099440",
     "status": "completed"
    },
    "tags": []
   },
   "outputs": [
    {
     "data": {
      "text/html": [
       "<div>\n",
       "<style scoped>\n",
       "    .dataframe tbody tr th:only-of-type {\n",
       "        vertical-align: middle;\n",
       "    }\n",
       "\n",
       "    .dataframe tbody tr th {\n",
       "        vertical-align: top;\n",
       "    }\n",
       "\n",
       "    .dataframe thead th {\n",
       "        text-align: right;\n",
       "    }\n",
       "</style>\n",
       "<table border=\"1\" class=\"dataframe\">\n",
       "  <thead>\n",
       "    <tr style=\"text-align: right;\">\n",
       "      <th></th>\n",
       "      <th>gender</th>\n",
       "      <th>age</th>\n",
       "      <th>hypertension</th>\n",
       "      <th>heart_disease</th>\n",
       "      <th>ever_married</th>\n",
       "      <th>work_type</th>\n",
       "      <th>Residence_type</th>\n",
       "      <th>avg_glucose_level</th>\n",
       "      <th>bmi</th>\n",
       "      <th>smoking_status</th>\n",
       "      <th>stroke</th>\n",
       "    </tr>\n",
       "  </thead>\n",
       "  <tbody>\n",
       "    <tr>\n",
       "      <th>162</th>\n",
       "      <td>Female</td>\n",
       "      <td>1.32</td>\n",
       "      <td>0</td>\n",
       "      <td>0</td>\n",
       "      <td>No</td>\n",
       "      <td>children</td>\n",
       "      <td>Urban</td>\n",
       "      <td>70.37</td>\n",
       "      <td>NaN</td>\n",
       "      <td>Unknown</td>\n",
       "      <td>1</td>\n",
       "    </tr>\n",
       "    <tr>\n",
       "      <th>245</th>\n",
       "      <td>Female</td>\n",
       "      <td>14.00</td>\n",
       "      <td>0</td>\n",
       "      <td>0</td>\n",
       "      <td>No</td>\n",
       "      <td>children</td>\n",
       "      <td>Rural</td>\n",
       "      <td>57.93</td>\n",
       "      <td>30.9</td>\n",
       "      <td>Unknown</td>\n",
       "      <td>1</td>\n",
       "    </tr>\n",
       "  </tbody>\n",
       "</table>\n",
       "</div>"
      ],
      "text/plain": [
       "     gender    age  hypertension  heart_disease ever_married work_type  \\\n",
       "162  Female   1.32             0              0           No  children   \n",
       "245  Female  14.00             0              0           No  children   \n",
       "\n",
       "    Residence_type  avg_glucose_level   bmi smoking_status  stroke  \n",
       "162          Urban              70.37   NaN        Unknown       1  \n",
       "245          Rural              57.93  30.9        Unknown       1  "
      ]
     },
     "execution_count": 102,
     "metadata": {},
     "output_type": "execute_result"
    }
   ],
   "source": [
    "df[(df['age'] < 20) & (df['stroke'] == 1)]"
   ]
  },
  {
   "cell_type": "markdown",
   "id": "prerequisite-disney",
   "metadata": {
    "papermill": {
     "duration": 0.056254,
     "end_time": "2021-08-26T14:46:42.293081",
     "exception": false,
     "start_time": "2021-08-26T14:46:42.236827",
     "status": "completed"
    },
    "tags": []
   },
   "source": [
    "Now a child at the age of about 1 and 14 having a stroke is surprising. Not sure whether this is a misinput or not. Maybe the stroke was due to a rare disease/condition? This makes me question what was considered a stroke when this data was collected, but this is out of our scope for now."
   ]
  },
  {
   "cell_type": "markdown",
   "id": "forty-craps",
   "metadata": {
    "papermill": {
     "duration": 0.056662,
     "end_time": "2021-08-26T14:46:42.406786",
     "exception": false,
     "start_time": "2021-08-26T14:46:42.350124",
     "status": "completed"
    },
    "tags": []
   },
   "source": [
    "# Hypertension"
   ]
  },
  {
   "cell_type": "code",
   "execution_count": 103,
   "id": "celtic-myanmar",
   "metadata": {
    "_kg_hide-input": true,
    "execution": {
     "iopub.execute_input": "2021-08-26T14:46:42.542804Z",
     "iopub.status.busy": "2021-08-26T14:46:42.534097Z",
     "iopub.status.idle": "2021-08-26T14:46:42.912064Z",
     "shell.execute_reply": "2021-08-26T14:46:42.911387Z",
     "shell.execute_reply.started": "2021-08-25T14:50:10.265452Z"
    },
    "papermill": {
     "duration": 0.448967,
     "end_time": "2021-08-26T14:46:42.912220",
     "exception": false,
     "start_time": "2021-08-26T14:46:42.463253",
     "status": "completed"
    },
    "tags": []
   },
   "outputs": [
    {
     "data": {
      "image/png": "[encoded data removed]",
      "text/plain": [
       "<Figure size 1152x432 with 3 Axes>"
      ]
     },
     "metadata": {
      "needs_background": "light"
     },
     "output_type": "display_data"
    }
   ],
   "source": [
    "# no hypertension\n",
    "dfnohyper = df[df['hypertension'] !=1]\n",
    "dfnohyper = dfnohyper['stroke'].value_counts(normalize=True)\n",
    "dfnohyper = dfnohyper.mul(100)\n",
    "dfnohyper = dfnohyper.rename('percent').reset_index()\n",
    "\n",
    "# with hypertension\n",
    "dfhyper = df[df['hypertension'] !=0]\n",
    "dfhyper = dfhyper['stroke'].value_counts(normalize=True)\n",
    "dfhyper = dfhyper.mul(100)\n",
    "dfhyper = dfhyper.rename('percent').reset_index()\n",
    "\n",
    "fig, ax = plt.subplots(1,3, figsize=(16,6))\n",
    "\n",
    "sns.countplot(x='hypertension', hue='stroke', data=df, palette=[\"#a9a9a9\", '#ff6865'], ax=ax[0])\n",
    "sns.barplot(x='index', y='percent', data=dfnohyper, palette=[\"#a9a9a9\", '#ff6865'], ax=ax[1])\n",
    "sns.barplot(x='index', y='percent', data=dfhyper, palette=[\"#a9a9a9\", '#ff6865'], ax=ax[2])\n",
    "\n",
    "ax[2].set(ylim=(0, 100))\n",
    "\n",
    "ax[0].set_title('Count of Stroke and Hypertension')\n",
    "ax[1].set_title('No Hypertension with Stroke')\n",
    "ax[2].set_title('Hypertension with Stroke')\n",
    "\n",
    "ax[1].set_xlabel('Stroke')\n",
    "ax[2].set_xlabel('Stroke')\n",
    "\n",
    "ax[1].text(0, 48, \"96.66%\", va='center', ha='center', fontsize=20)\n",
    "ax[1].text(1, 3.5, \"3.34%\", ha='center', fontsize=20)\n",
    "ax[2].text(0, 43, \"86.70%\", ha='center', fontsize=20)\n",
    "ax[2].text(1, 4.7, \"13.30%\", ha='center', fontsize=20)\n",
    "\n",
    "plt.show()"
   ]
  },
  {
   "cell_type": "markdown",
   "id": "noble-basket",
   "metadata": {
    "papermill": {
     "duration": 0.058763,
     "end_time": "2021-08-26T14:46:43.032402",
     "exception": false,
     "start_time": "2021-08-26T14:46:42.973639",
     "status": "completed"
    },
    "tags": []
   },
   "source": [
    "patients with hypertension have a higher occurrance of stroke"
   ]
  },
  {
   "cell_type": "code",
   "execution_count": 105,
   "id": "thousand-defensive",
   "metadata": {
    "_kg_hide-input": true,
    "execution": {
     "iopub.execute_input": "2021-08-26T14:46:43.179418Z",
     "iopub.status.busy": "2021-08-26T14:46:43.157323Z",
     "iopub.status.idle": "2021-08-26T14:46:43.730739Z",
     "shell.execute_reply": "2021-08-26T14:46:43.731265Z",
     "shell.execute_reply.started": "2021-08-25T14:50:10.637051Z"
    },
    "papermill": {
     "duration": 0.64018,
     "end_time": "2021-08-26T14:46:43.731445",
     "exception": false,
     "start_time": "2021-08-26T14:46:43.091265",
     "status": "completed"
    },
    "tags": []
   },
   "outputs": [
    {
     "data": {
      "image/png": "[encoded data removed]",
      "text/plain": [
       "<Figure size 1152x576 with 2 Axes>"
      ]
     },
     "metadata": {
      "needs_background": "light"
     },
     "output_type": "display_data"
    }
   ],
   "source": [
    "fig, ax= plt.subplots(1, 2, figsize=(16,8))\n",
    "\n",
    "sns.violinplot(x='hypertension', y='age', hue='stroke', data=df, split=True, palette=[\"#a9a9a9\", '#ff6865'], ax=ax[0])\n",
    "sns.boxplot(x='hypertension', y='age', hue='stroke', data=df, palette=[\"#a9a9a9\", '#ff6865'], ax=ax[1])\n",
    "\n",
    "ax[0].set_title('Hypertension, age, stroke')\n",
    "ax[1].set_title('Hypertension, age, stroke')\n",
    "\n",
    "plt.show()"
   ]
  },
  {
   "cell_type": "markdown",
   "id": "greek-thailand",
   "metadata": {
    "execution": {
     "iopub.execute_input": "2021-06-21T18:06:41.954623Z",
     "iopub.status.busy": "2021-06-21T18:06:41.954226Z",
     "iopub.status.idle": "2021-06-21T18:06:41.961731Z",
     "shell.execute_reply": "2021-06-21T18:06:41.960232Z",
     "shell.execute_reply.started": "2021-06-21T18:06:41.954578Z"
    },
    "papermill": {
     "duration": 0.058457,
     "end_time": "2021-08-26T14:46:43.850600",
     "exception": false,
     "start_time": "2021-08-26T14:46:43.792143",
     "status": "completed"
    },
    "tags": []
   },
   "source": [
    "the larger distribution of having hypertension is located at older ages"
   ]
  },
  {
   "cell_type": "markdown",
   "id": "neither-electric",
   "metadata": {
    "papermill": {
     "duration": 0.058174,
     "end_time": "2021-08-26T14:46:43.967825",
     "exception": false,
     "start_time": "2021-08-26T14:46:43.909651",
     "status": "completed"
    },
    "tags": []
   },
   "source": [
    "# Heart Disease"
   ]
  },
  {
   "cell_type": "code",
   "execution_count": 106,
   "id": "consolidated-outreach",
   "metadata": {
    "_kg_hide-input": true,
    "execution": {
     "iopub.execute_input": "2021-08-26T14:46:44.098586Z",
     "iopub.status.busy": "2021-08-26T14:46:44.097741Z",
     "iopub.status.idle": "2021-08-26T14:46:44.443422Z",
     "shell.execute_reply": "2021-08-26T14:46:44.442749Z",
     "shell.execute_reply.started": "2021-08-25T14:50:11.217438Z"
    },
    "papermill": {
     "duration": 0.417704,
     "end_time": "2021-08-26T14:46:44.443563",
     "exception": false,
     "start_time": "2021-08-26T14:46:44.025859",
     "status": "completed"
    },
    "tags": []
   },
   "outputs": [
    {
     "data": {
      "image/png": "[encoded data removed]",
      "text/plain": [
       "<Figure size 1152x432 with 3 Axes>"
      ]
     },
     "metadata": {
      "needs_background": "light"
     },
     "output_type": "display_data"
    }
   ],
   "source": [
    "# no heart disease\n",
    "dfnohd = df[df['heart_disease'] !=1]\n",
    "dfnohd = dfnohd['stroke'].value_counts(normalize=True)\n",
    "dfnohd = dfnohd.mul(100)\n",
    "dfnohd = dfnohd.rename('percent').reset_index()\n",
    "\n",
    "# with heart disease\n",
    "dfhd = df[df['heart_disease'] !=0]\n",
    "dfhd = dfhd['stroke'].value_counts(normalize=True)\n",
    "dfhd = dfhd.mul(100)\n",
    "dfhd = dfhd.rename('percent').reset_index()\n",
    "\n",
    "fig, ax = plt.subplots(1,3, figsize=(16,6))\n",
    "\n",
    "sns.countplot(x='heart_disease', hue='stroke', data=df, palette=[\"#a9a9a9\", '#ff6865'], ax=ax[0])\n",
    "sns.barplot(x='index', y='percent', data=dfnohd, palette=[\"#a9a9a9\", '#ff6865'], ax=ax[1])\n",
    "sns.barplot(x='index', y='percent', data=dfhd, palette=[\"#a9a9a9\", '#ff6865'], ax=ax[2])\n",
    "\n",
    "ax[2].set(ylim=(0, 100))\n",
    "\n",
    "ax[0].set_title('Count of Stroke and Heart Disease')\n",
    "ax[1].set_title('No Heart Disease with Stroke')\n",
    "ax[2].set_title('Heart Disease with Stroke')\n",
    "\n",
    "ax[1].set_xlabel('Stroke')\n",
    "ax[2].set_xlabel('Stroke')\n",
    "\n",
    "ax[1].text(0, 48, \"96.38%\", va='center', ha='center', fontsize=20)\n",
    "ax[1].text(1, 3.9, \"3.62%\", ha='center', fontsize=20)\n",
    "ax[2].text(0, 43, \"83.54%\", ha='center', fontsize=20)\n",
    "ax[2].text(1, 8, \"16.46%\", ha='center', fontsize=20)\n",
    "\n",
    "plt.show()"
   ]
  },
  {
   "cell_type": "markdown",
   "id": "constitutional-makeup",
   "metadata": {
    "papermill": {
     "duration": 0.059064,
     "end_time": "2021-08-26T14:46:44.562560",
     "exception": false,
     "start_time": "2021-08-26T14:46:44.503496",
     "status": "completed"
    },
    "tags": []
   },
   "source": [
    "Although the count of patients with heart disease is very low, there is relatively a 12.84% increased occurance of strokes with patients that have a heart disease"
   ]
  },
  {
   "cell_type": "markdown",
   "id": "racial-archives",
   "metadata": {
    "papermill": {
     "duration": 0.059068,
     "end_time": "2021-08-26T14:46:44.680947",
     "exception": false,
     "start_time": "2021-08-26T14:46:44.621879",
     "status": "completed"
    },
    "tags": []
   },
   "source": [
    "# Average Glucose Level"
   ]
  },
  {
   "cell_type": "code",
   "execution_count": 108,
   "id": "tired-christmas",
   "metadata": {
    "_kg_hide-input": true,
    "execution": {
     "iopub.execute_input": "2021-08-26T14:46:44.851881Z",
     "iopub.status.busy": "2021-08-26T14:46:44.850601Z",
     "iopub.status.idle": "2021-08-26T14:46:45.277154Z",
     "shell.execute_reply": "2021-08-26T14:46:45.277702Z",
     "shell.execute_reply.started": "2021-08-25T14:50:11.569936Z"
    },
    "papermill": {
     "duration": 0.537593,
     "end_time": "2021-08-26T14:46:45.277874",
     "exception": false,
     "start_time": "2021-08-26T14:46:44.740281",
     "status": "completed"
    },
    "tags": []
   },
   "outputs": [
    {
     "data": {
      "image/png": "[encoded data removed]",
      "text/plain": [
       "<Figure size 1152x432 with 2 Axes>"
      ]
     },
     "metadata": {
      "needs_background": "light"
     },
     "output_type": "display_data"
    }
   ],
   "source": [
    "fig, ax = plt.subplots(1,2, figsize=(16, 6))\n",
    "\n",
    "sns.histplot(x='avg_glucose_level', hue='stroke', palette=[\"#a9a9a9\", '#ff6865'], multiple='stack', data=df, binwidth=10, ax=ax[0])\n",
    "sns.histplot(x='avg_glucose_level', color= '#ff6865', binwidth=10, data=df[df['stroke'] == 1], ax=ax[1])\n",
    "palette=[\"#a9a9a9\", '#ff6865']\n",
    "ax[0].set_title('Average Glucose Level')\n",
    "ax[1].set_title('Average Glucose Level with Stroke')\n",
    "plt.show()"
   ]
  },
  {
   "cell_type": "markdown",
   "id": "crucial-norfolk",
   "metadata": {
    "papermill": {
     "duration": 0.060134,
     "end_time": "2021-08-26T14:46:45.399083",
     "exception": false,
     "start_time": "2021-08-26T14:46:45.338949",
     "status": "completed"
    },
    "tags": []
   },
   "source": [
    "The shape of the second peak (avg_glucose_level above 150) for patients with stroke looks relatively higher than the second peak of the left plot, suggesting that there is a higher occurance of stroke in patients with a higher average glucose level "
   ]
  },
  {
   "cell_type": "code",
   "execution_count": 110,
   "id": "musical-authority",
   "metadata": {
    "_kg_hide-input": true,
    "execution": {
     "iopub.execute_input": "2021-08-26T14:46:45.522742Z",
     "iopub.status.busy": "2021-08-26T14:46:45.522118Z",
     "iopub.status.idle": "2021-08-26T14:46:45.812848Z",
     "shell.execute_reply": "2021-08-26T14:46:45.812324Z",
     "shell.execute_reply.started": "2021-08-25T14:50:12.035439Z"
    },
    "papermill": {
     "duration": 0.353469,
     "end_time": "2021-08-26T14:46:45.813008",
     "exception": false,
     "start_time": "2021-08-26T14:46:45.459539",
     "status": "completed"
    },
    "tags": []
   },
   "outputs": [
    {
     "data": {
      "image/png": "[encoded data removed]",
      "text/plain": [
       "<Figure size 1152x432 with 2 Axes>"
      ]
     },
     "metadata": {
      "needs_background": "light"
     },
     "output_type": "display_data"
    }
   ],
   "source": [
    "fig, ax = plt.subplots(1,2, figsize=(16,6))\n",
    "\n",
    "sns.violinplot(x='stroke', y='avg_glucose_level', data=df, palette=[\"#a9a9a9\", '#ff6865'], ax=ax[0])\n",
    "sns.boxplot(x='stroke', y='avg_glucose_level', data=df, palette=[\"#a9a9a9\", '#ff6865'], ax=ax[1])\n",
    "\n",
    "ax[0].set_title('stroke and avg glucose level')\n",
    "ax[1].set_title('stroke and avg glucose level')\n",
    "\n",
    "\n",
    "plt.show()"
   ]
  },
  {
   "cell_type": "markdown",
   "id": "minor-therapist",
   "metadata": {
    "papermill": {
     "duration": 0.061579,
     "end_time": "2021-08-26T14:46:45.936582",
     "exception": false,
     "start_time": "2021-08-26T14:46:45.875003",
     "status": "completed"
    },
    "tags": []
   },
   "source": [
    "This plot better describes that with higher avg_glucose level, the higher risk of having a stroke. We can see more clearly than the histogram that there is a portionally larger distribution of patients with a higher average glucose level having experienced a stroke."
   ]
  },
  {
   "cell_type": "markdown",
   "id": "short-rings",
   "metadata": {
    "papermill": {
     "duration": 0.079915,
     "end_time": "2021-08-26T14:46:46.087477",
     "exception": false,
     "start_time": "2021-08-26T14:46:46.007562",
     "status": "completed"
    },
    "tags": []
   },
   "source": [
    "# BMI"
   ]
  },
  {
   "cell_type": "code",
   "execution_count": 111,
   "id": "plain-fellow",
   "metadata": {
    "_kg_hide-input": true,
    "execution": {
     "iopub.execute_input": "2021-08-26T14:46:46.229521Z",
     "iopub.status.busy": "2021-08-26T14:46:46.228829Z",
     "iopub.status.idle": "2021-08-26T14:46:46.679075Z",
     "shell.execute_reply": "2021-08-26T14:46:46.678547Z",
     "shell.execute_reply.started": "2021-08-25T14:50:12.331944Z"
    },
    "papermill": {
     "duration": 0.527443,
     "end_time": "2021-08-26T14:46:46.679219",
     "exception": false,
     "start_time": "2021-08-26T14:46:46.151776",
     "status": "completed"
    },
    "tags": []
   },
   "outputs": [
    {
     "data": {
      "image/png": "[encoded data removed]",
      "text/plain": [
       "<Figure size 1152x432 with 2 Axes>"
      ]
     },
     "metadata": {
      "needs_background": "light"
     },
     "output_type": "display_data"
    }
   ],
   "source": [
    "fig, ax = plt.subplots(1,2, figsize=(16, 6))\n",
    "\n",
    "sns.histplot(x='bmi', hue='stroke', multiple='stack', data=df, binwidth=5, palette=[\"#a9a9a9\", '#ff6865'], ax=ax[0])\n",
    "sns.histplot(x='bmi', color= '#ff6865', binwidth=5, data=df[df['stroke'] == 1], ax=ax[1])\n",
    "\n",
    "ax[0].set_title('bmi')\n",
    "ax[1].set_title('bmi with stroke')\n",
    "plt.show()"
   ]
  },
  {
   "cell_type": "code",
   "execution_count": 146,
   "id": "guilty-convertible",
   "metadata": {
    "_kg_hide-input": true,
    "execution": {
     "iopub.execute_input": "2021-08-26T14:46:46.845634Z",
     "iopub.status.busy": "2021-08-26T14:46:46.834271Z",
     "iopub.status.idle": "2021-08-26T14:46:48.208300Z",
     "shell.execute_reply": "2021-08-26T14:46:48.208808Z",
     "shell.execute_reply.started": "2021-08-25T14:50:12.787507Z"
    },
    "papermill": {
     "duration": 1.466611,
     "end_time": "2021-08-26T14:46:48.209016",
     "exception": false,
     "start_time": "2021-08-26T14:46:46.742405",
     "status": "completed"
    },
    "tags": []
   },
   "outputs": [
    {
     "data": {
      "image/png": "[encoded data removed]",
      "text/plain": [
       "<Figure size 864x576 with 2 Axes>"
      ]
     },
     "metadata": {
      "needs_background": "light"
     },
     "output_type": "display_data"
    }
   ],
   "source": [
    "fig, ax = plt.subplots((2),figsize=(12,8))\n",
    "\n",
    "    \n",
    "sns.regplot(x='avg_glucose_level', y='bmi', color=\"#a9a9a9\", data=df[df['stroke'] == 0], ax=ax[0], scatter_kws={'s':12}, line_kws={\"color\": \"black\", 'linewidth':1})\n",
    "sns.regplot(x='avg_glucose_level', y='bmi', color='#ff6865', data=df[df['stroke'] == 1], ax=ax[1], scatter_kws={'s':12}, line_kws={\"color\": \"black\", 'linewidth':1})\n",
    "\n",
    "\n",
    "ax[0].set_title('No Stroke')\n",
    "ax[1].set_title('Stroke')\n",
    "\n",
    "ax[1].set_ylim(0, 100)\n",
    "\n",
    "plt.tight_layout()\n",
    "plt.show()"
   ]
  },
  {
   "cell_type": "markdown",
   "id": "acoustic-valley",
   "metadata": {
    "execution": {
     "iopub.execute_input": "2021-06-21T18:10:08.798932Z",
     "iopub.status.busy": "2021-06-21T18:10:08.798556Z",
     "iopub.status.idle": "2021-06-21T18:10:08.803924Z",
     "shell.execute_reply": "2021-06-21T18:10:08.802935Z",
     "shell.execute_reply.started": "2021-06-21T18:10:08.798899Z"
    },
    "papermill": {
     "duration": 0.067476,
     "end_time": "2021-08-26T14:46:48.344117",
     "exception": false,
     "start_time": "2021-08-26T14:46:48.276641",
     "status": "completed"
    },
    "tags": []
   },
   "source": [
    "Slight positive correlation from all graphs"
   ]
  },
  {
   "cell_type": "markdown",
   "id": "crude-bracelet",
   "metadata": {
    "papermill": {
     "duration": 0.066425,
     "end_time": "2021-08-26T14:46:48.476884",
     "exception": false,
     "start_time": "2021-08-26T14:46:48.410459",
     "status": "completed"
    },
    "tags": []
   },
   "source": [
    "# Smoking Status"
   ]
  },
  {
   "cell_type": "code",
   "execution_count": 148,
   "id": "bright-statement",
   "metadata": {
    "execution": {
     "iopub.execute_input": "2021-08-26T14:46:48.614853Z",
     "iopub.status.busy": "2021-08-26T14:46:48.613767Z",
     "iopub.status.idle": "2021-08-26T14:46:48.641556Z",
     "shell.execute_reply": "2021-08-26T14:46:48.642087Z",
     "shell.execute_reply.started": "2021-08-25T14:50:14.153048Z"
    },
    "papermill": {
     "duration": 0.098919,
     "end_time": "2021-08-26T14:46:48.642285",
     "exception": false,
     "start_time": "2021-08-26T14:46:48.543366",
     "status": "completed"
    },
    "tags": []
   },
   "outputs": [
    {
     "data": {
      "text/html": [
       "<div>\n",
       "<style scoped>\n",
       "    .dataframe tbody tr th:only-of-type {\n",
       "        vertical-align: middle;\n",
       "    }\n",
       "\n",
       "    .dataframe tbody tr th {\n",
       "        vertical-align: top;\n",
       "    }\n",
       "\n",
       "    .dataframe thead th {\n",
       "        text-align: right;\n",
       "    }\n",
       "</style>\n",
       "<table border=\"1\" class=\"dataframe\">\n",
       "  <thead>\n",
       "    <tr style=\"text-align: right;\">\n",
       "      <th></th>\n",
       "      <th>count</th>\n",
       "      <th>unique</th>\n",
       "      <th>top</th>\n",
       "      <th>freq</th>\n",
       "    </tr>\n",
       "    <tr>\n",
       "      <th>smoking_status</th>\n",
       "      <th></th>\n",
       "      <th></th>\n",
       "      <th></th>\n",
       "      <th></th>\n",
       "    </tr>\n",
       "  </thead>\n",
       "  <tbody>\n",
       "    <tr>\n",
       "      <th>Unknown</th>\n",
       "      <td>1544</td>\n",
       "      <td>1</td>\n",
       "      <td>Unknown</td>\n",
       "      <td>1544</td>\n",
       "    </tr>\n",
       "    <tr>\n",
       "      <th>formerly smoked</th>\n",
       "      <td>884</td>\n",
       "      <td>1</td>\n",
       "      <td>formerly smoked</td>\n",
       "      <td>884</td>\n",
       "    </tr>\n",
       "    <tr>\n",
       "      <th>never smoked</th>\n",
       "      <td>1892</td>\n",
       "      <td>1</td>\n",
       "      <td>never smoked</td>\n",
       "      <td>1892</td>\n",
       "    </tr>\n",
       "    <tr>\n",
       "      <th>smokes</th>\n",
       "      <td>789</td>\n",
       "      <td>1</td>\n",
       "      <td>smokes</td>\n",
       "      <td>789</td>\n",
       "    </tr>\n",
       "  </tbody>\n",
       "</table>\n",
       "</div>"
      ],
      "text/plain": [
       "                count unique              top  freq\n",
       "smoking_status                                     \n",
       "Unknown          1544      1          Unknown  1544\n",
       "formerly smoked   884      1  formerly smoked   884\n",
       "never smoked     1892      1     never smoked  1892\n",
       "smokes            789      1           smokes   789"
      ]
     },
     "execution_count": 148,
     "metadata": {},
     "output_type": "execute_result"
    }
   ],
   "source": [
    "df.groupby(['smoking_status'])['smoking_status'].describe()"
   ]
  },
  {
   "cell_type": "code",
   "execution_count": 149,
   "id": "imperial-warren",
   "metadata": {
    "_kg_hide-input": true,
    "execution": {
     "iopub.execute_input": "2021-08-26T14:46:48.782966Z",
     "iopub.status.busy": "2021-08-26T14:46:48.781951Z",
     "iopub.status.idle": "2021-08-26T14:46:49.194353Z",
     "shell.execute_reply": "2021-08-26T14:46:49.193682Z",
     "shell.execute_reply.started": "2021-08-25T14:50:14.179114Z"
    },
    "papermill": {
     "duration": 0.484396,
     "end_time": "2021-08-26T14:46:49.194524",
     "exception": false,
     "start_time": "2021-08-26T14:46:48.710128",
     "status": "completed"
    },
    "tags": []
   },
   "outputs": [
    {
     "data": {
      "image/png": "[encoded data removed]",
      "text/plain": [
       "<Figure size 1152x576 with 2 Axes>"
      ]
     },
     "metadata": {
      "needs_background": "light"
     },
     "output_type": "display_data"
    }
   ],
   "source": [
    "fig, ax = plt.subplots(1,2, figsize=(16,8))\n",
    "\n",
    "sns.violinplot(x='smoking_status', y='age', data=df, ax=ax[0])\n",
    "sns.boxplot(x='smoking_status', y='age', data=df, ax=ax[1])\n",
    "\n",
    "ax[0].set_title('Age and smoking status')\n",
    "ax[1].set_title('Age and smoking status')\n",
    "\n",
    "plt.show()"
   ]
  },
  {
   "cell_type": "markdown",
   "id": "angry-thirty",
   "metadata": {
    "papermill": {
     "duration": 0.068264,
     "end_time": "2021-08-26T14:46:49.332543",
     "exception": false,
     "start_time": "2021-08-26T14:46:49.264279",
     "status": "completed"
    },
    "tags": []
   },
   "source": [
    "Seems that there is a lot of unknown values for ages below 20. Let's trying dividing up this group"
   ]
  },
  {
   "cell_type": "code",
   "execution_count": 150,
   "id": "average-brunswick",
   "metadata": {
    "execution": {
     "iopub.execute_input": "2021-08-26T14:46:49.476888Z",
     "iopub.status.busy": "2021-08-26T14:46:49.476268Z",
     "iopub.status.idle": "2021-08-26T14:46:49.488224Z",
     "shell.execute_reply": "2021-08-26T14:46:49.488717Z",
     "shell.execute_reply.started": "2021-08-25T14:50:14.562461Z"
    },
    "papermill": {
     "duration": 0.088355,
     "end_time": "2021-08-26T14:46:49.488892",
     "exception": false,
     "start_time": "2021-08-26T14:46:49.400537",
     "status": "completed"
    },
    "tags": []
   },
   "outputs": [],
   "source": [
    "# split the unknown smoking status into two groups: Unknown >20 age, and Unknown <20 age\n",
    "df[(df['smoking_status'] == 'Unknown') & (df['age'] > 20)] = df[(df['smoking_status'] == 'Unknown') & (df['age'] > 20)].replace('Unknown','Unknown over 20')\n",
    "df['smoking_status'] = df['smoking_status'].replace('Unknown', 'Unknown under 20')"
   ]
  },
  {
   "cell_type": "code",
   "execution_count": 151,
   "id": "fossil-shaft",
   "metadata": {
    "execution": {
     "iopub.execute_input": "2021-08-26T14:46:49.630135Z",
     "iopub.status.busy": "2021-08-26T14:46:49.629476Z",
     "iopub.status.idle": "2021-08-26T14:46:49.654493Z",
     "shell.execute_reply": "2021-08-26T14:46:49.655071Z",
     "shell.execute_reply.started": "2021-08-25T14:50:14.581978Z"
    },
    "papermill": {
     "duration": 0.098543,
     "end_time": "2021-08-26T14:46:49.655284",
     "exception": false,
     "start_time": "2021-08-26T14:46:49.556741",
     "status": "completed"
    },
    "tags": []
   },
   "outputs": [
    {
     "data": {
      "text/html": [
       "<div>\n",
       "<style scoped>\n",
       "    .dataframe tbody tr th:only-of-type {\n",
       "        vertical-align: middle;\n",
       "    }\n",
       "\n",
       "    .dataframe tbody tr th {\n",
       "        vertical-align: top;\n",
       "    }\n",
       "\n",
       "    .dataframe thead th {\n",
       "        text-align: right;\n",
       "    }\n",
       "</style>\n",
       "<table border=\"1\" class=\"dataframe\">\n",
       "  <thead>\n",
       "    <tr style=\"text-align: right;\">\n",
       "      <th>stroke</th>\n",
       "      <th>0</th>\n",
       "      <th>1</th>\n",
       "    </tr>\n",
       "    <tr>\n",
       "      <th>smoking_status</th>\n",
       "      <th></th>\n",
       "      <th></th>\n",
       "    </tr>\n",
       "  </thead>\n",
       "  <tbody>\n",
       "    <tr>\n",
       "      <th>Unknown over 20</th>\n",
       "      <td>754</td>\n",
       "      <td>45</td>\n",
       "    </tr>\n",
       "    <tr>\n",
       "      <th>Unknown under 20</th>\n",
       "      <td>743</td>\n",
       "      <td>2</td>\n",
       "    </tr>\n",
       "    <tr>\n",
       "      <th>formerly smoked</th>\n",
       "      <td>814</td>\n",
       "      <td>70</td>\n",
       "    </tr>\n",
       "    <tr>\n",
       "      <th>never smoked</th>\n",
       "      <td>1802</td>\n",
       "      <td>90</td>\n",
       "    </tr>\n",
       "    <tr>\n",
       "      <th>smokes</th>\n",
       "      <td>747</td>\n",
       "      <td>42</td>\n",
       "    </tr>\n",
       "  </tbody>\n",
       "</table>\n",
       "</div>"
      ],
      "text/plain": [
       "stroke               0   1\n",
       "smoking_status            \n",
       "Unknown over 20    754  45\n",
       "Unknown under 20   743   2\n",
       "formerly smoked    814  70\n",
       "never smoked      1802  90\n",
       "smokes             747  42"
      ]
     },
     "execution_count": 151,
     "metadata": {},
     "output_type": "execute_result"
    }
   ],
   "source": [
    "pd.crosstab(df.smoking_status, df.stroke,\n",
    "           rownames=['smoking_status'], colnames=['stroke'])"
   ]
  },
  {
   "cell_type": "code",
   "execution_count": 152,
   "id": "gorgeous-lindsay",
   "metadata": {
    "_kg_hide-input": true,
    "execution": {
     "iopub.execute_input": "2021-08-26T14:46:49.833261Z",
     "iopub.status.busy": "2021-08-26T14:46:49.832581Z",
     "iopub.status.idle": "2021-08-26T14:46:50.129496Z",
     "shell.execute_reply": "2021-08-26T14:46:50.129994Z",
     "shell.execute_reply.started": "2021-08-25T14:50:14.608434Z"
    },
    "papermill": {
     "duration": 0.405178,
     "end_time": "2021-08-26T14:46:50.130169",
     "exception": false,
     "start_time": "2021-08-26T14:46:49.724991",
     "status": "completed"
    },
    "tags": []
   },
   "outputs": [
    {
     "data": {
      "image/png": "[encoded data removed]",
      "text/plain": [
       "<Figure size 1152x432 with 1 Axes>"
      ]
     },
     "metadata": {
      "needs_background": "light"
     },
     "output_type": "display_data"
    }
   ],
   "source": [
    "fig, ax = plt.subplots(figsize=(16,6))\n",
    "\n",
    "sns.countplot(x='smoking_status', hue='stroke', data=df, palette=[\"#a9a9a9\", '#ff6865'])\n",
    "\n",
    "ax.text(-0.2, 400, \"92.21%\", va='center', ha='center', fontsize=15)\n",
    "ax.text(0.2, 100, \"7.79%\", va='center', ha='center', fontsize=15)\n",
    "ax.text(0.8, 400, \"95.24%\", va='center', ha='center', fontsize=15)\n",
    "ax.text(1.2, 120, \"4.76%\", va='center', ha='center', fontsize=15)\n",
    "ax.text(1.8, 400, \"94.68%\", va='center', ha='center', fontsize=15)\n",
    "ax.text(2.2, 80, \"5.32%\", va='center', ha='center', fontsize=15)\n",
    "ax.text(2.8, 400, \"94.37%\", va='center', ha='center', fontsize=15)\n",
    "ax.text(3.2, 80, \"5.63%\", va='center', ha='center', fontsize=15)\n",
    "ax.text(3.8, 400, \"99.97%\", va='center', ha='center', fontsize=15)\n",
    "ax.text(4.2, 40, \"0.30%\", va='center', ha='center', fontsize=15)\n",
    "\n",
    "ax.text(3.7, 1800, \"Note: local % for each group\", va='center', ha='center', fontsize=15)\n",
    "\n",
    "plt.title('Smoking Status and Stroke')\n",
    "\n",
    "plt.tight_layout()\n",
    "plt.show()"
   ]
  },
  {
   "cell_type": "markdown",
   "id": "innocent-telephone",
   "metadata": {
    "papermill": {
     "duration": 0.070043,
     "end_time": "2021-08-26T14:46:50.270151",
     "exception": false,
     "start_time": "2021-08-26T14:46:50.200108",
     "status": "completed"
    },
    "tags": []
   },
   "source": [
    "Patients who formerly smoked or smokes had a slightly higher occurance of stroke than patients who never smoked."
   ]
  },
  {
   "cell_type": "markdown",
   "id": "orange-favor",
   "metadata": {
    "papermill": {
     "duration": 0.071319,
     "end_time": "2021-08-26T14:46:50.411419",
     "exception": false,
     "start_time": "2021-08-26T14:46:50.340100",
     "status": "completed"
    },
    "tags": []
   },
   "source": [
    "# Preparing the Data"
   ]
  },
  {
   "cell_type": "code",
   "execution_count": 28,
   "id": "vocational-outdoors",
   "metadata": {
    "execution": {
     "iopub.execute_input": "2021-08-26T14:46:50.555830Z",
     "iopub.status.busy": "2021-08-26T14:46:50.554859Z",
     "iopub.status.idle": "2021-08-26T14:46:50.565475Z",
     "shell.execute_reply": "2021-08-26T14:46:50.565932Z",
     "shell.execute_reply.started": "2021-08-25T14:50:14.931449Z"
    },
    "papermill": {
     "duration": 0.084703,
     "end_time": "2021-08-26T14:46:50.566117",
     "exception": false,
     "start_time": "2021-08-26T14:46:50.481414",
     "status": "completed"
    },
    "tags": []
   },
   "outputs": [
    {
     "data": {
      "text/plain": [
       "gender                 0\n",
       "age                    0\n",
       "hypertension           0\n",
       "heart_disease          0\n",
       "ever_married           0\n",
       "work_type              0\n",
       "Residence_type         0\n",
       "avg_glucose_level      0\n",
       "bmi                  201\n",
       "smoking_status         0\n",
       "stroke                 0\n",
       "dtype: int64"
      ]
     },
     "execution_count": 28,
     "metadata": {},
     "output_type": "execute_result"
    }
   ],
   "source": [
    "df.isnull().sum()\n",
    "# will simple impute the bmi null values later on"
   ]
  },
  {
   "cell_type": "code",
   "execution_count": 29,
   "id": "regulated-formation",
   "metadata": {
    "execution": {
     "iopub.execute_input": "2021-08-26T14:46:50.711729Z",
     "iopub.status.busy": "2021-08-26T14:46:50.710740Z",
     "iopub.status.idle": "2021-08-26T14:46:50.725260Z",
     "shell.execute_reply": "2021-08-26T14:46:50.725772Z",
     "shell.execute_reply.started": "2021-08-25T14:50:14.944325Z"
    },
    "papermill": {
     "duration": 0.089584,
     "end_time": "2021-08-26T14:46:50.725962",
     "exception": false,
     "start_time": "2021-08-26T14:46:50.636378",
     "status": "completed"
    },
    "tags": []
   },
   "outputs": [],
   "source": [
    "# separate features and target\n",
    "X = df.drop(['stroke'], axis=1)\n",
    "y = df['stroke']\n",
    "\n",
    "# split the data first before doing any\n",
    "\n",
    "X_train, X_test, y_train, y_test = train_test_split(X, y, test_size=0.3, random_state=1)\n",
    "\n",
    "# Validation set\n",
    "\n",
    "X_train, X_valid, y_train, y_valid = train_test_split(X_train, y_train, test_size=0.3, random_state=1)\n",
    "\n",
    "# separate numerical and categorical columns\n",
    "X_num = X[['age', 'avg_glucose_level', 'bmi']]\n",
    "X_cat = X[['gender', 'hypertension', 'heart_disease', 'ever_married', \n",
    "           'work_type', 'smoking_status', 'Residence_type']]"
   ]
  },
  {
   "cell_type": "code",
   "execution_count": 30,
   "id": "horizontal-associate",
   "metadata": {
    "execution": {
     "iopub.execute_input": "2021-08-26T14:46:50.869836Z",
     "iopub.status.busy": "2021-08-26T14:46:50.869177Z",
     "iopub.status.idle": "2021-08-26T14:46:50.944292Z",
     "shell.execute_reply": "2021-08-26T14:46:50.945234Z",
     "shell.execute_reply.started": "2021-08-25T14:50:14.961689Z"
    },
    "papermill": {
     "duration": 0.149248,
     "end_time": "2021-08-26T14:46:50.945520",
     "exception": false,
     "start_time": "2021-08-26T14:46:50.796272",
     "status": "completed"
    },
    "tags": []
   },
   "outputs": [],
   "source": [
    "# pipeline\n",
    "\n",
    "num_pipeline = Pipeline([\n",
    "    ('imputer', SimpleImputer(strategy='mean')),\n",
    "     ('scaler', StandardScaler())\n",
    "])\n",
    "    \n",
    "cat_pipeline = Pipeline([\n",
    "    ('onehot', OneHotEncoder(sparse=False, drop='first'))\n",
    "])\n",
    "\n",
    "num_colnames = list(X_num)\n",
    "cat_colnames = list(X_cat)\n",
    "\n",
    "\n",
    "full_pipeline = ColumnTransformer([\n",
    "    ('num', num_pipeline, num_colnames),\n",
    "    ('cat', cat_pipeline, cat_colnames)\n",
    "])\n",
    "\n",
    "# SMOTE (resampling)\n",
    "pipelinebsmote = Pipeline([\n",
    "    ('smote', SMOTE(random_state=1))\n",
    "])\n",
    "\n",
    "# training set\n",
    "X_train = full_pipeline.fit_transform(X_train)\n",
    "X_train, y_train = pipelinebsmote.fit_resample(X_train, y_train)\n",
    "\n",
    "# validation set\n",
    "X_valid = full_pipeline.transform(X_valid)\n",
    "X_valid, y_valid = pipelinebsmote.fit_resample(X_valid, y_valid)\n",
    "\n",
    "# test set \n",
    "X_test = full_pipeline.transform(X_test)\n",
    "\n",
    "# Make sure test set is not resampled "
   ]
  },
  {
   "cell_type": "markdown",
   "id": "optimum-hometown",
   "metadata": {
    "papermill": {
     "duration": 0.070716,
     "end_time": "2021-08-26T14:46:51.128980",
     "exception": false,
     "start_time": "2021-08-26T14:46:51.058264",
     "status": "completed"
    },
    "tags": []
   },
   "source": [
    "# Modelling"
   ]
  },
  {
   "cell_type": "code",
   "execution_count": 31,
   "id": "micro-passing",
   "metadata": {
    "_kg_hide-input": true,
    "execution": {
     "iopub.execute_input": "2021-08-26T14:46:51.285278Z",
     "iopub.status.busy": "2021-08-26T14:46:51.284555Z",
     "iopub.status.idle": "2021-08-26T14:46:54.176318Z",
     "shell.execute_reply": "2021-08-26T14:46:54.175715Z",
     "shell.execute_reply.started": "2021-08-25T14:50:15.040517Z"
    },
    "papermill": {
     "duration": 2.976796,
     "end_time": "2021-08-26T14:46:54.176459",
     "exception": false,
     "start_time": "2021-08-26T14:46:51.199663",
     "status": "completed"
    },
    "tags": []
   },
   "outputs": [
    {
     "data": {
      "text/html": [
       "<div>\n",
       "<style scoped>\n",
       "    .dataframe tbody tr th:only-of-type {\n",
       "        vertical-align: middle;\n",
       "    }\n",
       "\n",
       "    .dataframe tbody tr th {\n",
       "        vertical-align: top;\n",
       "    }\n",
       "\n",
       "    .dataframe thead th {\n",
       "        text-align: right;\n",
       "    }\n",
       "</style>\n",
       "<table border=\"1\" class=\"dataframe\">\n",
       "  <thead>\n",
       "    <tr style=\"text-align: right;\">\n",
       "      <th></th>\n",
       "      <th></th>\n",
       "      <th>Training Set</th>\n",
       "    </tr>\n",
       "    <tr>\n",
       "      <th>Model</th>\n",
       "      <th>Metric</th>\n",
       "      <th></th>\n",
       "    </tr>\n",
       "  </thead>\n",
       "  <tbody>\n",
       "    <tr>\n",
       "      <th rowspan=\"4\" valign=\"top\">LOG</th>\n",
       "      <th>ROC AUC</th>\n",
       "      <td>0.733</td>\n",
       "    </tr>\n",
       "    <tr>\n",
       "      <th>Precision</th>\n",
       "      <td>0.731</td>\n",
       "    </tr>\n",
       "    <tr>\n",
       "      <th>Recall</th>\n",
       "      <td>0.738</td>\n",
       "    </tr>\n",
       "    <tr>\n",
       "      <th>F1</th>\n",
       "      <td>0.735</td>\n",
       "    </tr>\n",
       "    <tr>\n",
       "      <th rowspan=\"4\" valign=\"top\">KNN</th>\n",
       "      <th>ROC AUC</th>\n",
       "      <td>0.631</td>\n",
       "    </tr>\n",
       "    <tr>\n",
       "      <th>Precision</th>\n",
       "      <td>0.722</td>\n",
       "    </tr>\n",
       "    <tr>\n",
       "      <th>Recall</th>\n",
       "      <td>0.427</td>\n",
       "    </tr>\n",
       "    <tr>\n",
       "      <th>F1</th>\n",
       "      <td>0.536</td>\n",
       "    </tr>\n",
       "    <tr>\n",
       "      <th rowspan=\"4\" valign=\"top\">SVC</th>\n",
       "      <th>ROC AUC</th>\n",
       "      <td>0.689</td>\n",
       "    </tr>\n",
       "    <tr>\n",
       "      <th>Precision</th>\n",
       "      <td>0.763</td>\n",
       "    </tr>\n",
       "    <tr>\n",
       "      <th>Recall</th>\n",
       "      <td>0.548</td>\n",
       "    </tr>\n",
       "    <tr>\n",
       "      <th>F1</th>\n",
       "      <td>0.638</td>\n",
       "    </tr>\n",
       "    <tr>\n",
       "      <th rowspan=\"4\" valign=\"top\">RF</th>\n",
       "      <th>ROC AUC</th>\n",
       "      <td>0.808</td>\n",
       "    </tr>\n",
       "    <tr>\n",
       "      <th>Precision</th>\n",
       "      <td>0.957</td>\n",
       "    </tr>\n",
       "    <tr>\n",
       "      <th>Recall</th>\n",
       "      <td>0.644</td>\n",
       "    </tr>\n",
       "    <tr>\n",
       "      <th>F1</th>\n",
       "      <td>0.770</td>\n",
       "    </tr>\n",
       "    <tr>\n",
       "      <th rowspan=\"4\" valign=\"top\">DT</th>\n",
       "      <th>ROC AUC</th>\n",
       "      <td>0.724</td>\n",
       "    </tr>\n",
       "    <tr>\n",
       "      <th>Precision</th>\n",
       "      <td>0.842</td>\n",
       "    </tr>\n",
       "    <tr>\n",
       "      <th>Recall</th>\n",
       "      <td>0.551</td>\n",
       "    </tr>\n",
       "    <tr>\n",
       "      <th>F1</th>\n",
       "      <td>0.666</td>\n",
       "    </tr>\n",
       "    <tr>\n",
       "      <th rowspan=\"4\" valign=\"top\">GB</th>\n",
       "      <th>ROC AUC</th>\n",
       "      <td>0.927</td>\n",
       "    </tr>\n",
       "    <tr>\n",
       "      <th>Precision</th>\n",
       "      <td>0.934</td>\n",
       "    </tr>\n",
       "    <tr>\n",
       "      <th>Recall</th>\n",
       "      <td>0.919</td>\n",
       "    </tr>\n",
       "    <tr>\n",
       "      <th>F1</th>\n",
       "      <td>0.926</td>\n",
       "    </tr>\n",
       "  </tbody>\n",
       "</table>\n",
       "</div>"
      ],
      "text/plain": [
       "                 Training Set\n",
       "Model Metric                 \n",
       "LOG   ROC AUC           0.733\n",
       "      Precision         0.731\n",
       "      Recall            0.738\n",
       "      F1                0.735\n",
       "KNN   ROC AUC           0.631\n",
       "      Precision         0.722\n",
       "      Recall            0.427\n",
       "      F1                0.536\n",
       "SVC   ROC AUC           0.689\n",
       "      Precision         0.763\n",
       "      Recall            0.548\n",
       "      F1                0.638\n",
       "RF    ROC AUC           0.808\n",
       "      Precision         0.957\n",
       "      Recall            0.644\n",
       "      F1                0.770\n",
       "DT    ROC AUC           0.724\n",
       "      Precision         0.842\n",
       "      Recall            0.551\n",
       "      F1                0.666\n",
       "GB    ROC AUC           0.927\n",
       "      Precision         0.934\n",
       "      Recall            0.919\n",
       "      F1                0.926"
      ]
     },
     "execution_count": 31,
     "metadata": {},
     "output_type": "execute_result"
    }
   ],
   "source": [
    "# create an empty df with formatted index to be filled later on\n",
    "iterables = [['LOG', 'KNN', 'SVC', 'RF', 'DT', 'GB'], ['ROC AUC', 'Precision', 'Recall', 'F1']]\n",
    "iterabletuples = pd.MultiIndex.from_product(iterables, names=[\"Model\", \"Metric\"])\n",
    "results = pd.DataFrame(index = iterabletuples) \n",
    "\n",
    "\n",
    "def evalmodel(model, X, y):\n",
    "    modelpred = model.predict(X)\n",
    "    modelroc = roc_auc_score(y, modelpred)\n",
    "    modelprec = precision_score(y, modelpred)\n",
    "    modelrecall = recall_score(y, modelpred)\n",
    "    modelf1 = f1_score(y, modelpred)\n",
    "    ROC = round(modelroc, 3)\n",
    "    prec = round(modelprec, 3)\n",
    "    recall = round(modelrecall, 3)\n",
    "    F1 = round(modelf1, 3)\n",
    "    return ROC, prec, recall, F1\n",
    "\n",
    "# models\n",
    "\n",
    "logclf = LogisticRegression(random_state=1)\n",
    "knnclf = KNeighborsClassifier()\n",
    "svcclf = SVC(random_state=1)\n",
    "rfclf = RandomForestClassifier(random_state=1)\n",
    "dtclf = DecisionTreeClassifier(random_state=1)\n",
    "gbclf = GradientBoostingClassifier(random_state=1)\n",
    "\n",
    "listofmodels = [logclf, knnclf, svcclf, rfclf, dtclf, gbclf]\n",
    "trainresults= [] # empty list to be converted to a column for results df\n",
    "\n",
    "for i in listofmodels:\n",
    "    i.fit(X_train, y_train)\n",
    "\n",
    "for a in listofmodels:\n",
    "    ROC, prec, recall, F1 = evalmodel(a, X_valid, y_valid)\n",
    "    trainresults.extend([ROC, prec, recall, F1])\n",
    "\n",
    "results['Training Set'] = trainresults\n",
    "results"
   ]
  },
  {
   "cell_type": "markdown",
   "id": "boxed-headquarters",
   "metadata": {
    "papermill": {
     "duration": 0.071734,
     "end_time": "2021-08-26T14:46:54.319317",
     "exception": false,
     "start_time": "2021-08-26T14:46:54.247583",
     "status": "completed"
    },
    "tags": []
   },
   "source": [
    "The GradientBoostingClassifier model seems to be doing the best with the validation data"
   ]
  },
  {
   "cell_type": "markdown",
   "id": "institutional-february",
   "metadata": {
    "papermill": {
     "duration": 0.070534,
     "end_time": "2021-08-26T14:46:54.461246",
     "exception": false,
     "start_time": "2021-08-26T14:46:54.390712",
     "status": "completed"
    },
    "tags": []
   },
   "source": [
    "# Randomized Search"
   ]
  },
  {
   "cell_type": "code",
   "execution_count": 32,
   "id": "static-wednesday",
   "metadata": {
    "_kg_hide-output": true,
    "execution": {
     "iopub.execute_input": "2021-08-26T14:46:54.617218Z",
     "iopub.status.busy": "2021-08-26T14:46:54.616473Z",
     "iopub.status.idle": "2021-08-26T14:53:03.967193Z",
     "shell.execute_reply": "2021-08-26T14:53:03.967833Z",
     "shell.execute_reply.started": "2021-08-25T14:55:37.781285Z"
    },
    "papermill": {
     "duration": 369.435821,
     "end_time": "2021-08-26T14:53:03.968158",
     "exception": false,
     "start_time": "2021-08-26T14:46:54.532337",
     "status": "completed"
    },
    "tags": []
   },
   "outputs": [
    {
     "data": {
      "text/plain": [
       "RandomizedSearchCV(cv=3, estimator=GradientBoostingClassifier(random_state=1),\n",
       "                   param_distributions={'learning_rate': [0.01, 0.05, 0.1, 0.5,\n",
       "                                                          1],\n",
       "                                        'max_depth': array([ 2., 32.]),\n",
       "                                        'n_estimators': range(100, 1100, 100)},\n",
       "                   scoring='roc_auc')"
      ]
     },
     "execution_count": 32,
     "metadata": {},
     "output_type": "execute_result"
    }
   ],
   "source": [
    "# KNN\n",
    "KNNparam = {\n",
    "    'n_neighbors': range(3,15),\n",
    "    'weights': ['uniform', 'distance'],\n",
    "    'leaf_size': np.linspace(10,50,4)\n",
    "    \n",
    "}\n",
    "\n",
    "KNNgrid = RandomizedSearchCV(KNeighborsClassifier(), KNNparam, cv=3, scoring='roc_auc')\n",
    "KNNgrid.fit(X_train, y_train)\n",
    "\n",
    "\n",
    "# SVC\n",
    "SVCparam = {\n",
    "    'C':[0.01, 0.1, 0.9, 1, 1.1, 10, 100],\n",
    "    'kernel':['linear', 'poly', 'rbf', 'sigmoid'],\n",
    "    'degree': range(1,10)\n",
    "    \n",
    "}\n",
    "\n",
    "SVCgrid = RandomizedSearchCV(SVC(random_state=1), SVCparam, cv=3, scoring='roc_auc')\n",
    "SVCgrid.fit(X_train, y_train)\n",
    "\n",
    "\n",
    "# LOG\n",
    "LOGparam = {\n",
    "    'C':[0.01, 0.1, 0.9, 1, 1.1, 10, 100],\n",
    "    'class_weight':['dict', 'balanced']\n",
    "}\n",
    "\n",
    "LOGgrid = RandomizedSearchCV(LogisticRegression(random_state=1), LOGparam, cv=3, scoring='roc_auc')\n",
    "LOGgrid.fit(X_train, y_train)\n",
    "\n",
    "\n",
    "\n",
    "# RF\n",
    "RFparam = {\n",
    "    'max_depth': np.linspace(2,32,2),\n",
    "    'n_estimators': range(100,1100,100),\n",
    "    'min_samples_split': range(2,22,2)\n",
    "}\n",
    "\n",
    "RFgrid = RandomizedSearchCV(RandomForestClassifier(random_state=1), RFparam, cv=3, scoring='roc_auc')\n",
    "RFgrid.fit(X_train, y_train)\n",
    "\n",
    "# DT\n",
    "DTparam = {\n",
    "    'splitter': ['best','random'],\n",
    "    'max_depth': np.linspace(2,32,2),\n",
    "    'min_samples_split': range(2,22,2)\n",
    "}\n",
    "\n",
    "DTgrid = RandomizedSearchCV(DecisionTreeClassifier(random_state=1), DTparam, cv=3, scoring='roc_auc')\n",
    "DTgrid.fit(X_train, y_train)\n",
    "\n",
    "# GB\n",
    "GBparam = {\n",
    "    'max_depth': np.linspace(2,32,2),\n",
    "    'n_estimators': range(100,1100,100),\n",
    "    'learning_rate': [0.01,0.05,0.1,0.5, 1]\n",
    "}\n",
    "\n",
    "GBgrid = RandomizedSearchCV(GradientBoostingClassifier(random_state=1), GBparam, cv=3, scoring='roc_auc')\n",
    "GBgrid.fit(X_train, y_train)"
   ]
  },
  {
   "cell_type": "code",
   "execution_count": 33,
   "id": "compact-bobby",
   "metadata": {
    "execution": {
     "iopub.execute_input": "2021-08-26T14:53:04.130178Z",
     "iopub.status.busy": "2021-08-26T14:53:04.122677Z",
     "iopub.status.idle": "2021-08-26T14:53:05.007428Z",
     "shell.execute_reply": "2021-08-26T14:53:05.006782Z",
     "shell.execute_reply.started": "2021-08-25T15:07:06.213483Z"
    },
    "papermill": {
     "duration": 0.966043,
     "end_time": "2021-08-26T14:53:05.007588",
     "exception": false,
     "start_time": "2021-08-26T14:53:04.041545",
     "status": "completed"
    },
    "tags": []
   },
   "outputs": [
    {
     "data": {
      "text/html": [
       "<div>\n",
       "<style scoped>\n",
       "    .dataframe tbody tr th:only-of-type {\n",
       "        vertical-align: middle;\n",
       "    }\n",
       "\n",
       "    .dataframe tbody tr th {\n",
       "        vertical-align: top;\n",
       "    }\n",
       "\n",
       "    .dataframe thead th {\n",
       "        text-align: right;\n",
       "    }\n",
       "</style>\n",
       "<table border=\"1\" class=\"dataframe\">\n",
       "  <thead>\n",
       "    <tr style=\"text-align: right;\">\n",
       "      <th></th>\n",
       "      <th></th>\n",
       "      <th>Training Set</th>\n",
       "      <th>Grid Set</th>\n",
       "    </tr>\n",
       "    <tr>\n",
       "      <th>Model</th>\n",
       "      <th>Metric</th>\n",
       "      <th></th>\n",
       "      <th></th>\n",
       "    </tr>\n",
       "  </thead>\n",
       "  <tbody>\n",
       "    <tr>\n",
       "      <th rowspan=\"4\" valign=\"top\">LOG</th>\n",
       "      <th>ROC AUC</th>\n",
       "      <td>0.733</td>\n",
       "      <td>0.733</td>\n",
       "    </tr>\n",
       "    <tr>\n",
       "      <th>Precision</th>\n",
       "      <td>0.731</td>\n",
       "      <td>0.731</td>\n",
       "    </tr>\n",
       "    <tr>\n",
       "      <th>Recall</th>\n",
       "      <td>0.738</td>\n",
       "      <td>0.738</td>\n",
       "    </tr>\n",
       "    <tr>\n",
       "      <th>F1</th>\n",
       "      <td>0.735</td>\n",
       "      <td>0.735</td>\n",
       "    </tr>\n",
       "    <tr>\n",
       "      <th rowspan=\"4\" valign=\"top\">KNN</th>\n",
       "      <th>ROC AUC</th>\n",
       "      <td>0.631</td>\n",
       "      <td>0.648</td>\n",
       "    </tr>\n",
       "    <tr>\n",
       "      <th>Precision</th>\n",
       "      <td>0.722</td>\n",
       "      <td>0.717</td>\n",
       "    </tr>\n",
       "    <tr>\n",
       "      <th>Recall</th>\n",
       "      <td>0.427</td>\n",
       "      <td>0.489</td>\n",
       "    </tr>\n",
       "    <tr>\n",
       "      <th>F1</th>\n",
       "      <td>0.536</td>\n",
       "      <td>0.582</td>\n",
       "    </tr>\n",
       "    <tr>\n",
       "      <th rowspan=\"4\" valign=\"top\">SVC</th>\n",
       "      <th>ROC AUC</th>\n",
       "      <td>0.689</td>\n",
       "      <td>0.688</td>\n",
       "    </tr>\n",
       "    <tr>\n",
       "      <th>Precision</th>\n",
       "      <td>0.763</td>\n",
       "      <td>0.765</td>\n",
       "    </tr>\n",
       "    <tr>\n",
       "      <th>Recall</th>\n",
       "      <td>0.548</td>\n",
       "      <td>0.542</td>\n",
       "    </tr>\n",
       "    <tr>\n",
       "      <th>F1</th>\n",
       "      <td>0.638</td>\n",
       "      <td>0.634</td>\n",
       "    </tr>\n",
       "    <tr>\n",
       "      <th rowspan=\"4\" valign=\"top\">RF</th>\n",
       "      <th>ROC AUC</th>\n",
       "      <td>0.808</td>\n",
       "      <td>0.811</td>\n",
       "    </tr>\n",
       "    <tr>\n",
       "      <th>Precision</th>\n",
       "      <td>0.957</td>\n",
       "      <td>0.958</td>\n",
       "    </tr>\n",
       "    <tr>\n",
       "      <th>Recall</th>\n",
       "      <td>0.644</td>\n",
       "      <td>0.650</td>\n",
       "    </tr>\n",
       "    <tr>\n",
       "      <th>F1</th>\n",
       "      <td>0.770</td>\n",
       "      <td>0.775</td>\n",
       "    </tr>\n",
       "    <tr>\n",
       "      <th rowspan=\"4\" valign=\"top\">DT</th>\n",
       "      <th>ROC AUC</th>\n",
       "      <td>0.724</td>\n",
       "      <td>0.746</td>\n",
       "    </tr>\n",
       "    <tr>\n",
       "      <th>Precision</th>\n",
       "      <td>0.842</td>\n",
       "      <td>0.836</td>\n",
       "    </tr>\n",
       "    <tr>\n",
       "      <th>Recall</th>\n",
       "      <td>0.551</td>\n",
       "      <td>0.612</td>\n",
       "    </tr>\n",
       "    <tr>\n",
       "      <th>F1</th>\n",
       "      <td>0.666</td>\n",
       "      <td>0.707</td>\n",
       "    </tr>\n",
       "    <tr>\n",
       "      <th rowspan=\"4\" valign=\"top\">GB</th>\n",
       "      <th>ROC AUC</th>\n",
       "      <td>0.927</td>\n",
       "      <td>0.955</td>\n",
       "    </tr>\n",
       "    <tr>\n",
       "      <th>Precision</th>\n",
       "      <td>0.934</td>\n",
       "      <td>0.976</td>\n",
       "    </tr>\n",
       "    <tr>\n",
       "      <th>Recall</th>\n",
       "      <td>0.919</td>\n",
       "      <td>0.934</td>\n",
       "    </tr>\n",
       "    <tr>\n",
       "      <th>F1</th>\n",
       "      <td>0.926</td>\n",
       "      <td>0.954</td>\n",
       "    </tr>\n",
       "  </tbody>\n",
       "</table>\n",
       "</div>"
      ],
      "text/plain": [
       "                 Training Set  Grid Set\n",
       "Model Metric                           \n",
       "LOG   ROC AUC           0.733     0.733\n",
       "      Precision         0.731     0.731\n",
       "      Recall            0.738     0.738\n",
       "      F1                0.735     0.735\n",
       "KNN   ROC AUC           0.631     0.648\n",
       "      Precision         0.722     0.717\n",
       "      Recall            0.427     0.489\n",
       "      F1                0.536     0.582\n",
       "SVC   ROC AUC           0.689     0.688\n",
       "      Precision         0.763     0.765\n",
       "      Recall            0.548     0.542\n",
       "      F1                0.638     0.634\n",
       "RF    ROC AUC           0.808     0.811\n",
       "      Precision         0.957     0.958\n",
       "      Recall            0.644     0.650\n",
       "      F1                0.770     0.775\n",
       "DT    ROC AUC           0.724     0.746\n",
       "      Precision         0.842     0.836\n",
       "      Recall            0.551     0.612\n",
       "      F1                0.666     0.707\n",
       "GB    ROC AUC           0.927     0.955\n",
       "      Precision         0.934     0.976\n",
       "      Recall            0.919     0.934\n",
       "      F1                0.926     0.954"
      ]
     },
     "execution_count": 33,
     "metadata": {},
     "output_type": "execute_result"
    }
   ],
   "source": [
    "listofgridmodels = [LOGgrid.best_estimator_, KNNgrid.best_estimator_, SVCgrid.best_estimator_, \n",
    "                RFgrid.best_estimator_, DTgrid.best_estimator_, GBgrid.best_estimator_]\n",
    "\n",
    "gridresults = [] # empty list to be converted to a column for results df\n",
    "\n",
    "for a in listofgridmodels:\n",
    "    ROC, prec, recall, F1 = evalmodel(a, X_valid, y_valid)\n",
    "    gridresults.extend([ROC, prec, recall, F1])\n",
    "\n",
    "results['Grid Set'] = gridresults\n",
    "results"
   ]
  },
  {
   "cell_type": "markdown",
   "id": "anonymous-account",
   "metadata": {
    "papermill": {
     "duration": 0.072555,
     "end_time": "2021-08-26T14:53:05.153067",
     "exception": false,
     "start_time": "2021-08-26T14:53:05.080512",
     "status": "completed"
    },
    "tags": []
   },
   "source": [
    "# Evaluate model on Test Set"
   ]
  },
  {
   "cell_type": "code",
   "execution_count": 34,
   "id": "partial-stick",
   "metadata": {
    "_kg_hide-input": false,
    "execution": {
     "iopub.execute_input": "2021-08-26T14:53:05.312962Z",
     "iopub.status.busy": "2021-08-26T14:53:05.311788Z",
     "iopub.status.idle": "2021-08-26T14:53:05.983313Z",
     "shell.execute_reply": "2021-08-26T14:53:05.983827Z",
     "shell.execute_reply.started": "2021-08-25T15:07:10.369893Z"
    },
    "papermill": {
     "duration": 0.758321,
     "end_time": "2021-08-26T14:53:05.984063",
     "exception": false,
     "start_time": "2021-08-26T14:53:05.225742",
     "status": "completed"
    },
    "tags": []
   },
   "outputs": [
    {
     "data": {
      "text/html": [
       "<div>\n",
       "<style scoped>\n",
       "    .dataframe tbody tr th:only-of-type {\n",
       "        vertical-align: middle;\n",
       "    }\n",
       "\n",
       "    .dataframe tbody tr th {\n",
       "        vertical-align: top;\n",
       "    }\n",
       "\n",
       "    .dataframe thead th {\n",
       "        text-align: right;\n",
       "    }\n",
       "</style>\n",
       "<table border=\"1\" class=\"dataframe\">\n",
       "  <thead>\n",
       "    <tr style=\"text-align: right;\">\n",
       "      <th></th>\n",
       "      <th></th>\n",
       "      <th>Training Set</th>\n",
       "      <th>Grid Set</th>\n",
       "      <th>Test Set</th>\n",
       "    </tr>\n",
       "    <tr>\n",
       "      <th>Model</th>\n",
       "      <th>Metric</th>\n",
       "      <th></th>\n",
       "      <th></th>\n",
       "      <th></th>\n",
       "    </tr>\n",
       "  </thead>\n",
       "  <tbody>\n",
       "    <tr>\n",
       "      <th rowspan=\"4\" valign=\"top\">LOG</th>\n",
       "      <th>ROC AUC</th>\n",
       "      <td>0.733</td>\n",
       "      <td>0.733</td>\n",
       "      <td>0.757</td>\n",
       "    </tr>\n",
       "    <tr>\n",
       "      <th>Precision</th>\n",
       "      <td>0.731</td>\n",
       "      <td>0.731</td>\n",
       "      <td>0.146</td>\n",
       "    </tr>\n",
       "    <tr>\n",
       "      <th>Recall</th>\n",
       "      <td>0.738</td>\n",
       "      <td>0.738</td>\n",
       "      <td>0.771</td>\n",
       "    </tr>\n",
       "    <tr>\n",
       "      <th>F1</th>\n",
       "      <td>0.735</td>\n",
       "      <td>0.735</td>\n",
       "      <td>0.246</td>\n",
       "    </tr>\n",
       "    <tr>\n",
       "      <th rowspan=\"4\" valign=\"top\">KNN</th>\n",
       "      <th>ROC AUC</th>\n",
       "      <td>0.631</td>\n",
       "      <td>0.648</td>\n",
       "      <td>0.642</td>\n",
       "    </tr>\n",
       "    <tr>\n",
       "      <th>Precision</th>\n",
       "      <td>0.722</td>\n",
       "      <td>0.717</td>\n",
       "      <td>0.126</td>\n",
       "    </tr>\n",
       "    <tr>\n",
       "      <th>Recall</th>\n",
       "      <td>0.427</td>\n",
       "      <td>0.489</td>\n",
       "      <td>0.470</td>\n",
       "    </tr>\n",
       "    <tr>\n",
       "      <th>F1</th>\n",
       "      <td>0.536</td>\n",
       "      <td>0.582</td>\n",
       "      <td>0.199</td>\n",
       "    </tr>\n",
       "    <tr>\n",
       "      <th rowspan=\"4\" valign=\"top\">SVC</th>\n",
       "      <th>ROC AUC</th>\n",
       "      <td>0.689</td>\n",
       "      <td>0.688</td>\n",
       "      <td>0.621</td>\n",
       "    </tr>\n",
       "    <tr>\n",
       "      <th>Precision</th>\n",
       "      <td>0.763</td>\n",
       "      <td>0.765</td>\n",
       "      <td>0.128</td>\n",
       "    </tr>\n",
       "    <tr>\n",
       "      <th>Recall</th>\n",
       "      <td>0.548</td>\n",
       "      <td>0.542</td>\n",
       "      <td>0.398</td>\n",
       "    </tr>\n",
       "    <tr>\n",
       "      <th>F1</th>\n",
       "      <td>0.638</td>\n",
       "      <td>0.634</td>\n",
       "      <td>0.194</td>\n",
       "    </tr>\n",
       "    <tr>\n",
       "      <th rowspan=\"4\" valign=\"top\">RF</th>\n",
       "      <th>ROC AUC</th>\n",
       "      <td>0.808</td>\n",
       "      <td>0.811</td>\n",
       "      <td>0.524</td>\n",
       "    </tr>\n",
       "    <tr>\n",
       "      <th>Precision</th>\n",
       "      <td>0.957</td>\n",
       "      <td>0.958</td>\n",
       "      <td>0.150</td>\n",
       "    </tr>\n",
       "    <tr>\n",
       "      <th>Recall</th>\n",
       "      <td>0.644</td>\n",
       "      <td>0.650</td>\n",
       "      <td>0.072</td>\n",
       "    </tr>\n",
       "    <tr>\n",
       "      <th>F1</th>\n",
       "      <td>0.770</td>\n",
       "      <td>0.775</td>\n",
       "      <td>0.098</td>\n",
       "    </tr>\n",
       "    <tr>\n",
       "      <th rowspan=\"4\" valign=\"top\">DT</th>\n",
       "      <th>ROC AUC</th>\n",
       "      <td>0.724</td>\n",
       "      <td>0.746</td>\n",
       "      <td>0.593</td>\n",
       "    </tr>\n",
       "    <tr>\n",
       "      <th>Precision</th>\n",
       "      <td>0.842</td>\n",
       "      <td>0.836</td>\n",
       "      <td>0.137</td>\n",
       "    </tr>\n",
       "    <tr>\n",
       "      <th>Recall</th>\n",
       "      <td>0.551</td>\n",
       "      <td>0.612</td>\n",
       "      <td>0.289</td>\n",
       "    </tr>\n",
       "    <tr>\n",
       "      <th>F1</th>\n",
       "      <td>0.666</td>\n",
       "      <td>0.707</td>\n",
       "      <td>0.186</td>\n",
       "    </tr>\n",
       "    <tr>\n",
       "      <th rowspan=\"4\" valign=\"top\">GB</th>\n",
       "      <th>ROC AUC</th>\n",
       "      <td>0.927</td>\n",
       "      <td>0.955</td>\n",
       "      <td>0.546</td>\n",
       "    </tr>\n",
       "    <tr>\n",
       "      <th>Precision</th>\n",
       "      <td>0.934</td>\n",
       "      <td>0.976</td>\n",
       "      <td>0.200</td>\n",
       "    </tr>\n",
       "    <tr>\n",
       "      <th>Recall</th>\n",
       "      <td>0.919</td>\n",
       "      <td>0.934</td>\n",
       "      <td>0.120</td>\n",
       "    </tr>\n",
       "    <tr>\n",
       "      <th>F1</th>\n",
       "      <td>0.926</td>\n",
       "      <td>0.954</td>\n",
       "      <td>0.150</td>\n",
       "    </tr>\n",
       "  </tbody>\n",
       "</table>\n",
       "</div>"
      ],
      "text/plain": [
       "                 Training Set  Grid Set  Test Set\n",
       "Model Metric                                     \n",
       "LOG   ROC AUC           0.733     0.733     0.757\n",
       "      Precision         0.731     0.731     0.146\n",
       "      Recall            0.738     0.738     0.771\n",
       "      F1                0.735     0.735     0.246\n",
       "KNN   ROC AUC           0.631     0.648     0.642\n",
       "      Precision         0.722     0.717     0.126\n",
       "      Recall            0.427     0.489     0.470\n",
       "      F1                0.536     0.582     0.199\n",
       "SVC   ROC AUC           0.689     0.688     0.621\n",
       "      Precision         0.763     0.765     0.128\n",
       "      Recall            0.548     0.542     0.398\n",
       "      F1                0.638     0.634     0.194\n",
       "RF    ROC AUC           0.808     0.811     0.524\n",
       "      Precision         0.957     0.958     0.150\n",
       "      Recall            0.644     0.650     0.072\n",
       "      F1                0.770     0.775     0.098\n",
       "DT    ROC AUC           0.724     0.746     0.593\n",
       "      Precision         0.842     0.836     0.137\n",
       "      Recall            0.551     0.612     0.289\n",
       "      F1                0.666     0.707     0.186\n",
       "GB    ROC AUC           0.927     0.955     0.546\n",
       "      Precision         0.934     0.976     0.200\n",
       "      Recall            0.919     0.934     0.120\n",
       "      F1                0.926     0.954     0.150"
      ]
     },
     "execution_count": 34,
     "metadata": {},
     "output_type": "execute_result"
    }
   ],
   "source": [
    "listofgridmodels = [LOGgrid.best_estimator_, KNNgrid.best_estimator_, SVCgrid.best_estimator_, \n",
    "                RFgrid.best_estimator_, DTgrid.best_estimator_, GBgrid.best_estimator_]\n",
    "\n",
    "testresults = [] # empty list to be converted to a column for results df\n",
    "\n",
    "for a in listofgridmodels:\n",
    "    ROC, prec, recall, F1 = evalmodel(a, X_test, y_test)\n",
    "    testresults.extend([ROC, prec, recall, F1])\n",
    "\n",
    "results['Test Set'] = testresults\n",
    "results"
   ]
  },
  {
   "cell_type": "markdown",
   "id": "incident-referral",
   "metadata": {
    "papermill": {
     "duration": 0.076132,
     "end_time": "2021-08-26T14:53:06.147995",
     "exception": false,
     "start_time": "2021-08-26T14:53:06.071863",
     "status": "completed"
    },
    "tags": []
   },
   "source": [
    "looks like LogisticRegression generalized the best since it has the best ROC AUC score.\n",
    "\n",
    "- Note all models seem to overfit the training data and not generalize well with the test data. However, the training set has been resampled with SMOTE while the test data has not. As a result, the models are predicting on data that is severely imbalanced (few cases of patients with stroke)\n",
    "- Interestingly enough for the LogisticRegression and the KNN model, the precision has definitely decreased with the test set, but the recall scores stayed consistent."
   ]
  },
  {
   "cell_type": "markdown",
   "id": "flexible-cradle",
   "metadata": {
    "papermill": {
     "duration": 0.088946,
     "end_time": "2021-08-26T14:53:06.326255",
     "exception": false,
     "start_time": "2021-08-26T14:53:06.237309",
     "status": "completed"
    },
    "tags": []
   },
   "source": [
    "### Precision/Recall Plots for Logistic Regression"
   ]
  },
  {
   "cell_type": "code",
   "execution_count": 35,
   "id": "orange-garlic",
   "metadata": {
    "execution": {
     "iopub.execute_input": "2021-08-26T14:53:06.490207Z",
     "iopub.status.busy": "2021-08-26T14:53:06.488217Z",
     "iopub.status.idle": "2021-08-26T14:53:06.491151Z",
     "shell.execute_reply": "2021-08-26T14:53:06.489206Z",
     "shell.execute_reply.started": "2021-08-25T15:07:13.416389Z"
    },
    "papermill": {
     "duration": 0.091406,
     "end_time": "2021-08-26T14:53:06.491396",
     "exception": false,
     "start_time": "2021-08-26T14:53:06.399990",
     "status": "completed"
    },
    "tags": []
   },
   "outputs": [],
   "source": [
    "y_predict_proba = LOGgrid.best_estimator_.predict_proba(X_test)[:,1]\n",
    "precision, recall, thresholds = precision_recall_curve(y_test, y_predict_proba)\n",
    "recall = recall[:-1]\n",
    "precision = precision[:-1]\n",
    "# :-1 slice because threshold does not exist for last value in array for precision and recall"
   ]
  },
  {
   "cell_type": "code",
   "execution_count": 36,
   "id": "dried-inclusion",
   "metadata": {
    "execution": {
     "iopub.execute_input": "2021-08-26T14:53:06.745828Z",
     "iopub.status.busy": "2021-08-26T14:53:06.744638Z",
     "iopub.status.idle": "2021-08-26T14:53:09.418795Z",
     "shell.execute_reply": "2021-08-26T14:53:09.419348Z",
     "shell.execute_reply.started": "2021-08-25T15:07:13.731Z"
    },
    "papermill": {
     "duration": 2.771534,
     "end_time": "2021-08-26T14:53:09.419550",
     "exception": false,
     "start_time": "2021-08-26T14:53:06.648016",
     "status": "completed"
    },
    "tags": []
   },
   "outputs": [
    {
     "data": {
      "image/png": "[encoded data removed]",
      "text/plain": [
       "<Figure size 1152x432 with 3 Axes>"
      ]
     },
     "metadata": {
      "needs_background": "light"
     },
     "output_type": "display_data"
    }
   ],
   "source": [
    "# Plot precision/recall curve with and w/o threshold values\n",
    "fig, (ax1, ax2) = plt.subplots(1,2, figsize=(16,6))\n",
    "\n",
    "sns.lineplot(recall, precision, ax=ax1) # w/o threshold values\n",
    "\n",
    "sns.lineplot(x=thresholds, y=recall, color=\"g\", ax=ax2) # with threshold values\n",
    "\n",
    "ax12 = plt.twinx()\n",
    "sns.lineplot(x=thresholds, y=precision, color=\"b\", ax=ax12) \n",
    "# axis labels\n",
    "ax1.set_xlabel('Recall')\n",
    "ax1.set_ylabel('Precision')\n",
    "ax12.set_ylabel('Precision')\n",
    "ax2.set_ylabel('Recall')\n",
    "ax2.set_xlabel('Thresholds')\n",
    "\n",
    "ax2.yaxis.label.set_color('g')\n",
    "ax2.tick_params(axis='y', colors='g')\n",
    "\n",
    "ax12.yaxis.label.set_color('b')\n",
    "ax12.tick_params(axis='y', colors='b')\n",
    "\n",
    "ax1.set_title('Precision vs Recall Curve for LogisticRegression')\n",
    "ax2.set_title('Precision/Recall curves with Threshold values for LogisticRegression')\n",
    "# show the plot\n",
    "plt.show()"
   ]
  },
  {
   "cell_type": "markdown",
   "id": "collected-complexity",
   "metadata": {
    "papermill": {
     "duration": 0.074139,
     "end_time": "2021-08-26T14:53:09.568369",
     "exception": false,
     "start_time": "2021-08-26T14:53:09.494230",
     "status": "completed"
    },
    "tags": []
   },
   "source": [
    "Again with the imbalanced class issue, we see irregular shaped curves from both plots and so it's difficult to determine the best threshold value depending on if you want higher precision or recall score while optimally balancing between the two."
   ]
  }
 ],
 "metadata": {
  "kernelspec": {
   "display_name": "Python 3",
   "language": "python",
   "name": "python3"
  },
  "language_info": {
   "codemirror_mode": {
    "name": "ipython",
    "version": 3
   },
   "file_extension": ".py",
   "mimetype": "text/x-python",
   "name": "python",
   "nbconvert_exporter": "python",
   "pygments_lexer": "ipython3",
   "version": "3.8.8"
  },
  "papermill": {
   "default_parameters": {},
   "duration": 405.069917,
   "end_time": "2021-08-26T14:53:11.238614",
   "environment_variables": {},
   "exception": null,
   "input_path": "__notebook__.ipynb",
   "output_path": "__notebook__.ipynb",
   "parameters": {},
   "start_time": "2021-08-26T14:46:26.168697",
   "version": "2.3.3"
  }
 },
 "nbformat": 4,
 "nbformat_minor": 5
}
